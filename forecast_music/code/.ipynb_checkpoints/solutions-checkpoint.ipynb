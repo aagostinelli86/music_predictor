{
 "cells": [
  {
   "cell_type": "markdown",
   "metadata": {},
   "source": [
    "# A Model for Genre Classification "
   ]
  },
  {
   "cell_type": "code",
   "execution_count": 1,
   "metadata": {
    "collapsed": true
   },
   "outputs": [],
   "source": [
    "import pandas as pd\n",
    "import matplotlib.pyplot as plt\n",
    "from datetime import datetime\n",
    "import numpy as np\n",
    "import re\n",
    "import scipy as sp\n",
    "import warnings\n",
    "#%matplotlib inline\n",
    "import os\n",
    "import sys"
   ]
  },
  {
   "cell_type": "markdown",
   "metadata": {},
   "source": [
    "Loading raw data "
   ]
  },
  {
   "cell_type": "code",
   "execution_count": 2,
   "metadata": {
    "collapsed": true
   },
   "outputs": [],
   "source": [
    "tracks = \"tracks.csv\"\n",
    "sessions = \"sessions.csv\"\n",
    "tracks_to_complete = \"tracks_to_complete.csv\"\n",
    "\n",
    "df_tracks = pd.read_csv(tracks)\n",
    "df_sessions = pd.read_csv(sessions)\n",
    "df_tracks_to_complete = pd.read_csv(tracks_to_complete)"
   ]
  },
  {
   "cell_type": "markdown",
   "metadata": {},
   "source": [
    "Before dealing with any model it is worth exploring the dataframes in order to understand the statistics and to perform some data quality checks."
   ]
  },
  {
   "cell_type": "markdown",
   "metadata": {},
   "source": [
    "#### Lyrics data exploration "
   ]
  },
  {
   "cell_type": "markdown",
   "metadata": {},
   "source": [
    "Let's check some properties of the genre distribution"
   ]
  },
  {
   "cell_type": "code",
   "execution_count": 3,
   "metadata": {},
   "outputs": [
    {
     "name": "stdout",
     "output_type": "stream",
     "text": [
      "(4985, 3)\n"
     ]
    },
    {
     "data": {
      "text/html": [
       "<div>\n",
       "<style>\n",
       "    .dataframe thead tr:only-child th {\n",
       "        text-align: right;\n",
       "    }\n",
       "\n",
       "    .dataframe thead th {\n",
       "        text-align: left;\n",
       "    }\n",
       "\n",
       "    .dataframe tbody tr th {\n",
       "        vertical-align: top;\n",
       "    }\n",
       "</style>\n",
       "<table border=\"1\" class=\"dataframe\">\n",
       "  <thead>\n",
       "    <tr style=\"text-align: right;\">\n",
       "      <th></th>\n",
       "      <th>song_id</th>\n",
       "      <th>duration</th>\n",
       "      <th>genre</th>\n",
       "    </tr>\n",
       "  </thead>\n",
       "  <tbody>\n",
       "    <tr>\n",
       "      <th>0</th>\n",
       "      <td>13460427505664</td>\n",
       "      <td>142.0</td>\n",
       "      <td>rock</td>\n",
       "    </tr>\n",
       "    <tr>\n",
       "      <th>1</th>\n",
       "      <td>4707284156416</td>\n",
       "      <td>259.0</td>\n",
       "      <td>reggae</td>\n",
       "    </tr>\n",
       "    <tr>\n",
       "      <th>2</th>\n",
       "      <td>2525440770048</td>\n",
       "      <td>36.0</td>\n",
       "      <td>rock</td>\n",
       "    </tr>\n",
       "    <tr>\n",
       "      <th>3</th>\n",
       "      <td>16973710753795</td>\n",
       "      <td>216.0</td>\n",
       "      <td>blues</td>\n",
       "    </tr>\n",
       "    <tr>\n",
       "      <th>4</th>\n",
       "      <td>3642132267010</td>\n",
       "      <td>19.0</td>\n",
       "      <td>rock</td>\n",
       "    </tr>\n",
       "  </tbody>\n",
       "</table>\n",
       "</div>"
      ],
      "text/plain": [
       "          song_id  duration   genre\n",
       "0  13460427505664     142.0    rock\n",
       "1   4707284156416     259.0  reggae\n",
       "2   2525440770048      36.0    rock\n",
       "3  16973710753795     216.0   blues\n",
       "4   3642132267010      19.0    rock"
      ]
     },
     "execution_count": 3,
     "metadata": {},
     "output_type": "execute_result"
    }
   ],
   "source": [
    "print df_tracks.shape\n",
    "df_tracks = df_tracks.drop_duplicates(keep=\"first\")\n",
    "df_tracks.head(5)"
   ]
  },
  {
   "cell_type": "code",
   "execution_count": 4,
   "metadata": {
    "collapsed": true
   },
   "outputs": [],
   "source": [
    "df_tracks['duration'].describe(include='all')\n",
    "genres = df_tracks[\"genre\"].unique()"
   ]
  },
  {
   "cell_type": "code",
   "execution_count": 5,
   "metadata": {},
   "outputs": [
    {
     "data": {
      "text/html": [
       "<div>\n",
       "<style>\n",
       "    .dataframe thead tr:only-child th {\n",
       "        text-align: right;\n",
       "    }\n",
       "\n",
       "    .dataframe thead th {\n",
       "        text-align: left;\n",
       "    }\n",
       "\n",
       "    .dataframe tbody tr th {\n",
       "        vertical-align: top;\n",
       "    }\n",
       "</style>\n",
       "<table border=\"1\" class=\"dataframe\">\n",
       "  <thead>\n",
       "    <tr>\n",
       "      <th></th>\n",
       "      <th colspan=\"8\" halign=\"left\">duration</th>\n",
       "    </tr>\n",
       "    <tr>\n",
       "      <th></th>\n",
       "      <th>count</th>\n",
       "      <th>mean</th>\n",
       "      <th>std</th>\n",
       "      <th>min</th>\n",
       "      <th>25%</th>\n",
       "      <th>50%</th>\n",
       "      <th>75%</th>\n",
       "      <th>max</th>\n",
       "    </tr>\n",
       "    <tr>\n",
       "      <th>genre</th>\n",
       "      <th></th>\n",
       "      <th></th>\n",
       "      <th></th>\n",
       "      <th></th>\n",
       "      <th></th>\n",
       "      <th></th>\n",
       "      <th></th>\n",
       "      <th></th>\n",
       "    </tr>\n",
       "  </thead>\n",
       "  <tbody>\n",
       "    <tr>\n",
       "      <th>blues</th>\n",
       "      <td>769.0</td>\n",
       "      <td>91.093628</td>\n",
       "      <td>70.877032</td>\n",
       "      <td>0.0</td>\n",
       "      <td>36.00</td>\n",
       "      <td>74.0</td>\n",
       "      <td>129.00</td>\n",
       "      <td>364.0</td>\n",
       "    </tr>\n",
       "    <tr>\n",
       "      <th>electro</th>\n",
       "      <td>376.0</td>\n",
       "      <td>100.917553</td>\n",
       "      <td>75.351133</td>\n",
       "      <td>0.0</td>\n",
       "      <td>35.75</td>\n",
       "      <td>89.0</td>\n",
       "      <td>155.25</td>\n",
       "      <td>368.0</td>\n",
       "    </tr>\n",
       "    <tr>\n",
       "      <th>rap</th>\n",
       "      <td>567.0</td>\n",
       "      <td>96.303351</td>\n",
       "      <td>73.878085</td>\n",
       "      <td>0.0</td>\n",
       "      <td>37.00</td>\n",
       "      <td>80.0</td>\n",
       "      <td>141.00</td>\n",
       "      <td>489.0</td>\n",
       "    </tr>\n",
       "    <tr>\n",
       "      <th>reggae</th>\n",
       "      <td>757.0</td>\n",
       "      <td>93.976222</td>\n",
       "      <td>67.101711</td>\n",
       "      <td>0.0</td>\n",
       "      <td>39.00</td>\n",
       "      <td>82.0</td>\n",
       "      <td>138.00</td>\n",
       "      <td>379.0</td>\n",
       "    </tr>\n",
       "    <tr>\n",
       "      <th>rock</th>\n",
       "      <td>2273.0</td>\n",
       "      <td>93.030356</td>\n",
       "      <td>70.234200</td>\n",
       "      <td>0.0</td>\n",
       "      <td>37.00</td>\n",
       "      <td>78.0</td>\n",
       "      <td>135.00</td>\n",
       "      <td>489.0</td>\n",
       "    </tr>\n",
       "  </tbody>\n",
       "</table>\n",
       "</div>"
      ],
      "text/plain": [
       "        duration                                                        \n",
       "           count        mean        std  min    25%   50%     75%    max\n",
       "genre                                                                   \n",
       "blues      769.0   91.093628  70.877032  0.0  36.00  74.0  129.00  364.0\n",
       "electro    376.0  100.917553  75.351133  0.0  35.75  89.0  155.25  368.0\n",
       "rap        567.0   96.303351  73.878085  0.0  37.00  80.0  141.00  489.0\n",
       "reggae     757.0   93.976222  67.101711  0.0  39.00  82.0  138.00  379.0\n",
       "rock      2273.0   93.030356  70.234200  0.0  37.00  78.0  135.00  489.0"
      ]
     },
     "execution_count": 5,
     "metadata": {},
     "output_type": "execute_result"
    }
   ],
   "source": [
    "describeTracks = df_tracks[[\"genre\",\"duration\"]].groupby(\"genre\").describe()\n",
    "describeTracks "
   ]
  },
  {
   "cell_type": "markdown",
   "metadata": {},
   "source": [
    "It is pretty unuasual to have lyrics with duration of 0 seconds (or 1,2s, ...)! \n",
    "\n",
    "The tracks cataoogue reports several NAs values in the \"duration\" feature. In order to deal with missing data, the average lyrics duration per genre is computed and used in replacement:   "
   ]
  },
  {
   "cell_type": "code",
   "execution_count": 6,
   "metadata": {
    "collapsed": true
   },
   "outputs": [],
   "source": [
    "blues_avg = describeTracks[\"duration\"][\"mean\"][\"blues\"]\n",
    "electro_avg = describeTracks[\"duration\"][\"mean\"][\"electro\"]\n",
    "rap_avg = describeTracks[\"duration\"][\"mean\"][\"rap\"]\n",
    "raggae_avg = describeTracks[\"duration\"][\"mean\"][\"reggae\"]\n",
    "rock_avg = describeTracks[\"duration\"][\"mean\"][\"rock\"]\n",
    "\n",
    "# fillna \n",
    "df_tracks.loc[(df_tracks[\"duration\"].isnull()) & (df_tracks[\"genre\"]==\"blues\"),\"duration\"] = blues_avg\n",
    "df_tracks.loc[(df_tracks[\"duration\"].isnull()) & (df_tracks[\"genre\"]==\"electro\"),\"duration\"] = electro_avg\n",
    "df_tracks.loc[(df_tracks[\"duration\"].isnull()) & (df_tracks[\"genre\"]==\"rap\"),\"duration\"] = rap_avg\n",
    "df_tracks.loc[(df_tracks[\"duration\"].isnull()) & (df_tracks[\"genre\"]==\"reggae\"),\"duration\"] = raggae_avg\n",
    "df_tracks.loc[(df_tracks[\"duration\"].isnull()) & (df_tracks[\"genre\"]==\"rock\"),\"duration\"] = rock_avg"
   ]
  },
  {
   "cell_type": "code",
   "execution_count": 7,
   "metadata": {},
   "outputs": [
    {
     "name": "stdout",
     "output_type": "stream",
     "text": [
      "Na values left:\n",
      "song_id     0\n",
      "duration    0\n",
      "genre       0\n",
      "dtype: int64\n"
     ]
    }
   ],
   "source": [
    "# check \n",
    "print \"Na values left:\\n%s\" % df_tracks.isnull().sum() "
   ]
  },
  {
   "cell_type": "code",
   "execution_count": 8,
   "metadata": {},
   "outputs": [
    {
     "data": {
      "text/plain": [
       "count     4985\n",
       "unique       5\n",
       "top       rock\n",
       "freq      2406\n",
       "Name: genre, dtype: object"
      ]
     },
     "execution_count": 8,
     "metadata": {},
     "output_type": "execute_result"
    }
   ],
   "source": [
    "df_tracks[\"genre\"].describe(include='all')"
   ]
  },
  {
   "cell_type": "markdown",
   "metadata": {},
   "source": [
    "#### Session data exploration "
   ]
  },
  {
   "cell_type": "code",
   "execution_count": 9,
   "metadata": {},
   "outputs": [
    {
     "data": {
      "text/html": [
       "<div>\n",
       "<style>\n",
       "    .dataframe thead tr:only-child th {\n",
       "        text-align: right;\n",
       "    }\n",
       "\n",
       "    .dataframe thead th {\n",
       "        text-align: left;\n",
       "    }\n",
       "\n",
       "    .dataframe tbody tr th {\n",
       "        vertical-align: top;\n",
       "    }\n",
       "</style>\n",
       "<table border=\"1\" class=\"dataframe\">\n",
       "  <thead>\n",
       "    <tr style=\"text-align: right;\">\n",
       "      <th></th>\n",
       "      <th>user_id</th>\n",
       "      <th>song_id</th>\n",
       "      <th>timestamp</th>\n",
       "    </tr>\n",
       "  </thead>\n",
       "  <tbody>\n",
       "    <tr>\n",
       "      <th>0</th>\n",
       "      <td>21.0</td>\n",
       "      <td>7954279432194</td>\n",
       "      <td>1.486218e+09</td>\n",
       "    </tr>\n",
       "    <tr>\n",
       "      <th>1</th>\n",
       "      <td>12.0</td>\n",
       "      <td>10307921510401</td>\n",
       "      <td>1.477860e+09</td>\n",
       "    </tr>\n",
       "    <tr>\n",
       "      <th>2</th>\n",
       "      <td>3.0</td>\n",
       "      <td>2843268349952</td>\n",
       "      <td>1.450139e+09</td>\n",
       "    </tr>\n",
       "    <tr>\n",
       "      <th>3</th>\n",
       "      <td>90.0</td>\n",
       "      <td>12300786335744</td>\n",
       "      <td>1.479925e+09</td>\n",
       "    </tr>\n",
       "    <tr>\n",
       "      <th>4</th>\n",
       "      <td>86.0</td>\n",
       "      <td>1752346656768</td>\n",
       "      <td>1.506672e+09</td>\n",
       "    </tr>\n",
       "  </tbody>\n",
       "</table>\n",
       "</div>"
      ],
      "text/plain": [
       "   user_id         song_id     timestamp\n",
       "0     21.0   7954279432194  1.486218e+09\n",
       "1     12.0  10307921510401  1.477860e+09\n",
       "2      3.0   2843268349952  1.450139e+09\n",
       "3     90.0  12300786335744  1.479925e+09\n",
       "4     86.0   1752346656768  1.506672e+09"
      ]
     },
     "execution_count": 9,
     "metadata": {},
     "output_type": "execute_result"
    }
   ],
   "source": [
    "df_sessions.head(5)"
   ]
  },
  {
   "cell_type": "code",
   "execution_count": 10,
   "metadata": {},
   "outputs": [
    {
     "name": "stdout",
     "output_type": "stream",
     "text": [
      "(58037, 3)\n",
      "The ratio of NA is\n",
      "user_id      0.091321\n",
      "song_id      0.000000\n",
      "timestamp    0.963179\n",
      "dtype: float64\n"
     ]
    }
   ],
   "source": [
    "print df_sessions.shape\n",
    "print \"The ratio of NA is\\n%s\" % str(df_sessions.isnull().sum()/df_sessions.shape[0]*100)"
   ]
  },
  {
   "cell_type": "markdown",
   "metadata": {},
   "source": [
    "Since there is less than 1% of NAs in each column, missing observations will be simply filtered out."
   ]
  },
  {
   "cell_type": "code",
   "execution_count": 11,
   "metadata": {},
   "outputs": [
    {
     "name": "stdout",
     "output_type": "stream",
     "text": [
      "(57426, 3)\n",
      "5967\n",
      "101\n"
     ]
    }
   ],
   "source": [
    "df_sessions = df_sessions.dropna()#.shape() #= df_sessions[]\n",
    "n_items = len(df_sessions.song_id.unique())\n",
    "n_users = len(df_sessions.user_id.unique())\n",
    "print df_sessions.shape\n",
    "print n_items\n",
    "print n_users"
   ]
  },
  {
   "cell_type": "markdown",
   "metadata": {},
   "source": [
    "There are 2 duplicates rows "
   ]
  },
  {
   "cell_type": "code",
   "execution_count": 12,
   "metadata": {},
   "outputs": [
    {
     "name": "stdout",
     "output_type": "stream",
     "text": [
      "(57424, 3)\n"
     ]
    }
   ],
   "source": [
    "df_sessions = df_sessions.drop_duplicates(keep=\"first\")\n",
    "print df_sessions.shape"
   ]
  },
  {
   "cell_type": "markdown",
   "metadata": {},
   "source": [
    "Some techniques for recommendation usually take into account a field summarising the preferences given by the users. First of all, we want to count how many times a certain user listened to the same song:"
   ]
  },
  {
   "cell_type": "code",
   "execution_count": 13,
   "metadata": {},
   "outputs": [
    {
     "name": "stdout",
     "output_type": "stream",
     "text": [
      "(52532, 3)\n",
      "count    52532.000000\n",
      "mean         1.093124\n",
      "std          0.321699\n",
      "min          1.000000\n",
      "25%          1.000000\n",
      "50%          1.000000\n",
      "75%          1.000000\n",
      "max          5.000000\n",
      "Name: usr_rating, dtype: float64\n"
     ]
    },
    {
     "data": {
      "text/html": [
       "<div>\n",
       "<style>\n",
       "    .dataframe thead tr:only-child th {\n",
       "        text-align: right;\n",
       "    }\n",
       "\n",
       "    .dataframe thead th {\n",
       "        text-align: left;\n",
       "    }\n",
       "\n",
       "    .dataframe tbody tr th {\n",
       "        vertical-align: top;\n",
       "    }\n",
       "</style>\n",
       "<table border=\"1\" class=\"dataframe\">\n",
       "  <thead>\n",
       "    <tr style=\"text-align: right;\">\n",
       "      <th></th>\n",
       "      <th>song_id</th>\n",
       "      <th>user_id</th>\n",
       "      <th>usr_rating</th>\n",
       "    </tr>\n",
       "  </thead>\n",
       "  <tbody>\n",
       "    <tr>\n",
       "      <th>0</th>\n",
       "      <td>0</td>\n",
       "      <td>2.0</td>\n",
       "      <td>1</td>\n",
       "    </tr>\n",
       "    <tr>\n",
       "      <th>1</th>\n",
       "      <td>0</td>\n",
       "      <td>6.0</td>\n",
       "      <td>1</td>\n",
       "    </tr>\n",
       "    <tr>\n",
       "      <th>2</th>\n",
       "      <td>0</td>\n",
       "      <td>18.0</td>\n",
       "      <td>1</td>\n",
       "    </tr>\n",
       "    <tr>\n",
       "      <th>3</th>\n",
       "      <td>0</td>\n",
       "      <td>29.0</td>\n",
       "      <td>1</td>\n",
       "    </tr>\n",
       "    <tr>\n",
       "      <th>4</th>\n",
       "      <td>0</td>\n",
       "      <td>37.0</td>\n",
       "      <td>1</td>\n",
       "    </tr>\n",
       "  </tbody>\n",
       "</table>\n",
       "</div>"
      ],
      "text/plain": [
       "   song_id  user_id  usr_rating\n",
       "0        0      2.0           1\n",
       "1        0      6.0           1\n",
       "2        0     18.0           1\n",
       "3        0     29.0           1\n",
       "4        0     37.0           1"
      ]
     },
     "execution_count": 13,
     "metadata": {},
     "output_type": "execute_result"
    }
   ],
   "source": [
    "df_UsrRating = (df_sessions.\n",
    "               groupby([\"song_id\",\"user_id\"])\n",
    "               .count().reset_index().rename(columns={'timestamp':'usr_rating'})\n",
    "       )\n",
    "print df_UsrRating.shape\n",
    "print df_UsrRating[\"usr_rating\"].describe()\n",
    "df_UsrRating.head(5)"
   ]
  },
  {
   "cell_type": "markdown",
   "metadata": {},
   "source": [
    "It is worth noting that this feature is highly unevenly distributed to a value of 1, with tails up to 5."
   ]
  },
  {
   "cell_type": "code",
   "execution_count": 14,
   "metadata": {},
   "outputs": [
    {
     "data": {
      "text/plain": [
       "(array([  4.80900000e+04,   0.00000000e+00,   4.03800000e+03,\n",
       "          0.00000000e+00,   0.00000000e+00,   3.62000000e+02,\n",
       "          0.00000000e+00,   3.80000000e+01,   0.00000000e+00,\n",
       "          4.00000000e+00]),\n",
       " array([ 1. ,  1.4,  1.8,  2.2,  2.6,  3. ,  3.4,  3.8,  4.2,  4.6,  5. ]),\n",
       " <a list of 10 Patch objects>)"
      ]
     },
     "execution_count": 14,
     "metadata": {},
     "output_type": "execute_result"
    },
    {
     "data": {
      "image/png": "[encoded data removed]",
      "text/plain": [
       "<matplotlib.figure.Figure at 0x10b644b50>"
      ]
     },
     "metadata": {},
     "output_type": "display_data"
    }
   ],
   "source": [
    "plt.hist(df_UsrRating.usr_rating)"
   ]
  },
  {
   "cell_type": "code",
   "execution_count": 15,
   "metadata": {
    "collapsed": true
   },
   "outputs": [],
   "source": [
    "#We could clip the play counts to be binary, e.g., any number greater than 2 is mapped to 1, otherwise it's 0.\n",
    "#df_UsrRating.loc[df_UsrRating.usr_rating == 1,\"usr_rating\"] = 0\n",
    "#df_UsrRating.loc[df_UsrRating.usr_rating > 1,\"usr_rating\"] = 1"
   ]
  },
  {
   "cell_type": "markdown",
   "metadata": {},
   "source": [
    "Another feature to add to the model is the lyrics \"popularity\", derived looking at how many times a track was globally played. This quantity will be scaled by its maximum measure, in order to get a rating classification between 0 and 1 "
   ]
  },
  {
   "cell_type": "code",
   "execution_count": 16,
   "metadata": {
    "collapsed": true
   },
   "outputs": [],
   "source": [
    "df_GlobRating = (df_sessions[[\"user_id\",\"song_id\"]]\n",
    "                 .groupby(\"song_id\")\n",
    "                 .count()\n",
    "                 .reset_index()\n",
    "                 .rename(columns={'user_id':'popolarity'}))\n",
    "\n",
    "df_GlobRating[\"popolarity\"] = df_GlobRating[\"popolarity\"]/df_GlobRating[\"popolarity\"].max()#head(10)"
   ]
  },
  {
   "cell_type": "code",
   "execution_count": 17,
   "metadata": {
    "collapsed": true
   },
   "outputs": [],
   "source": [
    "df_rating = df_GlobRating.merge(df_UsrRating, how = \"left\", on=[\"song_id\"])"
   ]
  },
  {
   "cell_type": "code",
   "execution_count": 18,
   "metadata": {},
   "outputs": [
    {
     "data": {
      "text/plain": [
       "0.32169565145983653"
      ]
     },
     "execution_count": 18,
     "metadata": {},
     "output_type": "execute_result"
    }
   ],
   "source": [
    "np.sqrt(np.var(df_rating.usr_rating))"
   ]
  },
  {
   "cell_type": "markdown",
   "metadata": {},
   "source": [
    "#### Data manipulation:  merge & filtering"
   ]
  },
  {
   "cell_type": "markdown",
   "metadata": {},
   "source": [
    "- We want to aggregte all the data into a single dataframe. \n",
    "\n",
    "- NaNs will be generated where user sessions cannot be mapped to the track catalogues. \n",
    "\n",
    "- The $\\textit{song_id}$ corresponding to these NAs will be filtered out in a differnt dataframe, namely $\\textit{df_preds}$, that will be used at the vey end for predictions. \n",
    "\n",
    "- Data in $\\textit{tracks_to_complete.csv}$ should be at least a subset of $\\textit{df_preds}$ "
   ]
  },
  {
   "cell_type": "code",
   "execution_count": 19,
   "metadata": {
    "collapsed": true
   },
   "outputs": [],
   "source": [
    "df_sessions = df_sessions.merge(df_rating, how = \"left\", on=[\"user_id\",\"song_id\"])"
   ]
  },
  {
   "cell_type": "code",
   "execution_count": 20,
   "metadata": {
    "collapsed": true
   },
   "outputs": [],
   "source": [
    "dfOverall = df_sessions.merge(df_tracks, how = \"left\", on=[\"song_id\"])"
   ]
  },
  {
   "cell_type": "code",
   "execution_count": 21,
   "metadata": {},
   "outputs": [
    {
     "name": "stdout",
     "output_type": "stream",
     "text": [
      "(57424, 7)\n"
     ]
    },
    {
     "data": {
      "text/html": [
       "<div>\n",
       "<style>\n",
       "    .dataframe thead tr:only-child th {\n",
       "        text-align: right;\n",
       "    }\n",
       "\n",
       "    .dataframe thead th {\n",
       "        text-align: left;\n",
       "    }\n",
       "\n",
       "    .dataframe tbody tr th {\n",
       "        vertical-align: top;\n",
       "    }\n",
       "</style>\n",
       "<table border=\"1\" class=\"dataframe\">\n",
       "  <thead>\n",
       "    <tr style=\"text-align: right;\">\n",
       "      <th></th>\n",
       "      <th>user_id</th>\n",
       "      <th>song_id</th>\n",
       "      <th>timestamp</th>\n",
       "      <th>popolarity</th>\n",
       "      <th>usr_rating</th>\n",
       "      <th>duration</th>\n",
       "      <th>genre</th>\n",
       "    </tr>\n",
       "  </thead>\n",
       "  <tbody>\n",
       "    <tr>\n",
       "      <th>37858</th>\n",
       "      <td>0.0</td>\n",
       "      <td>17179869185</td>\n",
       "      <td>1.464394e+09</td>\n",
       "      <td>0.151163</td>\n",
       "      <td>1</td>\n",
       "      <td>97.0</td>\n",
       "      <td>blues</td>\n",
       "    </tr>\n",
       "    <tr>\n",
       "      <th>7512</th>\n",
       "      <td>0.0</td>\n",
       "      <td>85899345921</td>\n",
       "      <td>1.454597e+09</td>\n",
       "      <td>0.232558</td>\n",
       "      <td>1</td>\n",
       "      <td>53.0</td>\n",
       "      <td>blues</td>\n",
       "    </tr>\n",
       "    <tr>\n",
       "      <th>49199</th>\n",
       "      <td>0.0</td>\n",
       "      <td>111669149698</td>\n",
       "      <td>1.454596e+09</td>\n",
       "      <td>0.860465</td>\n",
       "      <td>1</td>\n",
       "      <td>54.0</td>\n",
       "      <td>blues</td>\n",
       "    </tr>\n",
       "    <tr>\n",
       "      <th>7174</th>\n",
       "      <td>0.0</td>\n",
       "      <td>489626271744</td>\n",
       "      <td>1.465710e+09</td>\n",
       "      <td>0.069767</td>\n",
       "      <td>1</td>\n",
       "      <td>39.0</td>\n",
       "      <td>rock</td>\n",
       "    </tr>\n",
       "    <tr>\n",
       "      <th>37398</th>\n",
       "      <td>0.0</td>\n",
       "      <td>523986010112</td>\n",
       "      <td>1.447600e+09</td>\n",
       "      <td>0.197674</td>\n",
       "      <td>1</td>\n",
       "      <td>107.0</td>\n",
       "      <td>blues</td>\n",
       "    </tr>\n",
       "    <tr>\n",
       "      <th>29237</th>\n",
       "      <td>0.0</td>\n",
       "      <td>532575944704</td>\n",
       "      <td>1.479566e+09</td>\n",
       "      <td>0.174419</td>\n",
       "      <td>2</td>\n",
       "      <td>33.0</td>\n",
       "      <td>rap</td>\n",
       "    </tr>\n",
       "    <tr>\n",
       "      <th>23456</th>\n",
       "      <td>0.0</td>\n",
       "      <td>532575944704</td>\n",
       "      <td>1.488145e+09</td>\n",
       "      <td>0.174419</td>\n",
       "      <td>2</td>\n",
       "      <td>33.0</td>\n",
       "      <td>rap</td>\n",
       "    </tr>\n",
       "    <tr>\n",
       "      <th>43757</th>\n",
       "      <td>0.0</td>\n",
       "      <td>541165879298</td>\n",
       "      <td>1.465710e+09</td>\n",
       "      <td>0.116279</td>\n",
       "      <td>1</td>\n",
       "      <td>NaN</td>\n",
       "      <td>NaN</td>\n",
       "    </tr>\n",
       "    <tr>\n",
       "      <th>26460</th>\n",
       "      <td>0.0</td>\n",
       "      <td>627065225218</td>\n",
       "      <td>1.490830e+09</td>\n",
       "      <td>0.023256</td>\n",
       "      <td>1</td>\n",
       "      <td>262.0</td>\n",
       "      <td>rock</td>\n",
       "    </tr>\n",
       "    <tr>\n",
       "      <th>36118</th>\n",
       "      <td>0.0</td>\n",
       "      <td>635655159810</td>\n",
       "      <td>1.557653e+09</td>\n",
       "      <td>0.034884</td>\n",
       "      <td>1</td>\n",
       "      <td>64.0</td>\n",
       "      <td>rock</td>\n",
       "    </tr>\n",
       "  </tbody>\n",
       "</table>\n",
       "</div>"
      ],
      "text/plain": [
       "       user_id       song_id     timestamp  popolarity  usr_rating  duration  \\\n",
       "37858      0.0   17179869185  1.464394e+09    0.151163           1      97.0   \n",
       "7512       0.0   85899345921  1.454597e+09    0.232558           1      53.0   \n",
       "49199      0.0  111669149698  1.454596e+09    0.860465           1      54.0   \n",
       "7174       0.0  489626271744  1.465710e+09    0.069767           1      39.0   \n",
       "37398      0.0  523986010112  1.447600e+09    0.197674           1     107.0   \n",
       "29237      0.0  532575944704  1.479566e+09    0.174419           2      33.0   \n",
       "23456      0.0  532575944704  1.488145e+09    0.174419           2      33.0   \n",
       "43757      0.0  541165879298  1.465710e+09    0.116279           1       NaN   \n",
       "26460      0.0  627065225218  1.490830e+09    0.023256           1     262.0   \n",
       "36118      0.0  635655159810  1.557653e+09    0.034884           1      64.0   \n",
       "\n",
       "       genre  \n",
       "37858  blues  \n",
       "7512   blues  \n",
       "49199  blues  \n",
       "7174    rock  \n",
       "37398  blues  \n",
       "29237    rap  \n",
       "23456    rap  \n",
       "43757    NaN  \n",
       "26460   rock  \n",
       "36118   rock  "
      ]
     },
     "execution_count": 21,
     "metadata": {},
     "output_type": "execute_result"
    }
   ],
   "source": [
    "print(dfOverall.shape)\n",
    "dfOverall.sort_values(by=[\"user_id\",\"song_id\",\"timestamp\"]).head(10)"
   ]
  },
  {
   "cell_type": "markdown",
   "metadata": {},
   "source": [
    "Each user listenend to a total number of tracks equal to: "
   ]
  },
  {
   "cell_type": "code",
   "execution_count": 22,
   "metadata": {},
   "outputs": [
    {
     "data": {
      "text/plain": [
       "[<matplotlib.lines.Line2D at 0x10c1abfd0>]"
      ]
     },
     "execution_count": 22,
     "metadata": {},
     "output_type": "execute_result"
    },
    {
     "data": {
      "image/png": "[encoded data removed]",
      "text/plain": [
       "<matplotlib.figure.Figure at 0x10b8dd910>"
      ]
     },
     "metadata": {},
     "output_type": "display_data"
    }
   ],
   "source": [
    "totNtracks = dfOverall[[\"user_id\",\"song_id\"]].groupby(\"user_id\").count().reset_index().rename(columns={'song_id':'usr_totTrack'})\n",
    "plt.plot(totNtracks.usr_totTrack)"
   ]
  },
  {
   "cell_type": "code",
   "execution_count": 23,
   "metadata": {},
   "outputs": [
    {
     "name": "stdout",
     "output_type": "stream",
     "text": [
      "minumum number of listened tracks 328\n"
     ]
    }
   ],
   "source": [
    "print \"minumum number of listened tracks %d\" % (totNtracks.usr_totTrack.min())"
   ]
  },
  {
   "cell_type": "markdown",
   "metadata": {},
   "source": [
    "On average, each user listens to music tracks for the following average duration (in seconds)"
   ]
  },
  {
   "cell_type": "code",
   "execution_count": 24,
   "metadata": {},
   "outputs": [],
   "source": [
    "avgTime = dfOverall[[\"user_id\",\"duration\"]].groupby(\"user_id\").mean().reset_index().rename(columns={'duration':'usr_avgSession'})\n",
    "#avgTime.head(5)"
   ]
  },
  {
   "cell_type": "code",
   "execution_count": 25,
   "metadata": {},
   "outputs": [
    {
     "data": {
      "text/plain": [
       "[<matplotlib.lines.Line2D at 0x10c5f7810>]"
      ]
     },
     "execution_count": 25,
     "metadata": {},
     "output_type": "execute_result"
    },
    {
     "data": {
      "image/png": "[encoded data removed]",
      "text/plain": [
       "<matplotlib.figure.Figure at 0x10b8d0550>"
      ]
     },
     "metadata": {},
     "output_type": "display_data"
    }
   ],
   "source": [
    "plt.plot(avgTime.usr_avgSession)"
   ]
  },
  {
   "cell_type": "markdown",
   "metadata": {},
   "source": [
    "merging .."
   ]
  },
  {
   "cell_type": "code",
   "execution_count": 26,
   "metadata": {
    "collapsed": true
   },
   "outputs": [],
   "source": [
    "globFeatures = avgTime.merge(totNtracks,how = \"inner\", on=[\"user_id\"] )"
   ]
  },
  {
   "cell_type": "code",
   "execution_count": 27,
   "metadata": {},
   "outputs": [
    {
     "name": "stdout",
     "output_type": "stream",
     "text": [
      "(57424, 9)\n"
     ]
    }
   ],
   "source": [
    "dfOverall = dfOverall.merge(globFeatures, how = \"left\", on=[\"user_id\"])\n",
    "print(dfOverall.shape)"
   ]
  },
  {
   "cell_type": "code",
   "execution_count": 28,
   "metadata": {
    "collapsed": true
   },
   "outputs": [],
   "source": [
    "df_preds = dfOverall[dfOverall.genre.isnull()]\n",
    "df = dfOverall[-dfOverall.genre.isnull()]"
   ]
  },
  {
   "cell_type": "code",
   "execution_count": 29,
   "metadata": {},
   "outputs": [
    {
     "name": "stdout",
     "output_type": "stream",
     "text": [
      "Data is split in a DF for modelling with 46084 observations and in a DF for final predictions with 11340 \n"
     ]
    }
   ],
   "source": [
    "print( \"Data is split in a DF for modelling with %d observations and in a DF for final predictions with %d \" % (df.shape[0],df_preds.shape[0]))"
   ]
  },
  {
   "cell_type": "code",
   "execution_count": 30,
   "metadata": {},
   "outputs": [],
   "source": [
    "#df_preds.sort_values([\"song_id\",\"usr_rating\"])"
   ]
  },
  {
   "cell_type": "code",
   "execution_count": 31,
   "metadata": {},
   "outputs": [
    {
     "data": {
      "text/html": [
       "<div>\n",
       "<style>\n",
       "    .dataframe thead tr:only-child th {\n",
       "        text-align: right;\n",
       "    }\n",
       "\n",
       "    .dataframe thead th {\n",
       "        text-align: left;\n",
       "    }\n",
       "\n",
       "    .dataframe tbody tr th {\n",
       "        vertical-align: top;\n",
       "    }\n",
       "</style>\n",
       "<table border=\"1\" class=\"dataframe\">\n",
       "  <thead>\n",
       "    <tr style=\"text-align: right;\">\n",
       "      <th></th>\n",
       "      <th>user_id</th>\n",
       "      <th>song_id</th>\n",
       "      <th>timestamp</th>\n",
       "      <th>popolarity</th>\n",
       "      <th>usr_rating</th>\n",
       "      <th>duration</th>\n",
       "      <th>genre</th>\n",
       "      <th>usr_avgSession</th>\n",
       "      <th>usr_totTrack</th>\n",
       "    </tr>\n",
       "  </thead>\n",
       "  <tbody>\n",
       "    <tr>\n",
       "      <th>37858</th>\n",
       "      <td>0.0</td>\n",
       "      <td>17179869185</td>\n",
       "      <td>1.464394e+09</td>\n",
       "      <td>0.151163</td>\n",
       "      <td>1</td>\n",
       "      <td>97.0</td>\n",
       "      <td>blues</td>\n",
       "      <td>88.01732</td>\n",
       "      <td>328</td>\n",
       "    </tr>\n",
       "    <tr>\n",
       "      <th>7512</th>\n",
       "      <td>0.0</td>\n",
       "      <td>85899345921</td>\n",
       "      <td>1.454597e+09</td>\n",
       "      <td>0.232558</td>\n",
       "      <td>1</td>\n",
       "      <td>53.0</td>\n",
       "      <td>blues</td>\n",
       "      <td>88.01732</td>\n",
       "      <td>328</td>\n",
       "    </tr>\n",
       "    <tr>\n",
       "      <th>49199</th>\n",
       "      <td>0.0</td>\n",
       "      <td>111669149698</td>\n",
       "      <td>1.454596e+09</td>\n",
       "      <td>0.860465</td>\n",
       "      <td>1</td>\n",
       "      <td>54.0</td>\n",
       "      <td>blues</td>\n",
       "      <td>88.01732</td>\n",
       "      <td>328</td>\n",
       "    </tr>\n",
       "    <tr>\n",
       "      <th>7174</th>\n",
       "      <td>0.0</td>\n",
       "      <td>489626271744</td>\n",
       "      <td>1.465710e+09</td>\n",
       "      <td>0.069767</td>\n",
       "      <td>1</td>\n",
       "      <td>39.0</td>\n",
       "      <td>rock</td>\n",
       "      <td>88.01732</td>\n",
       "      <td>328</td>\n",
       "    </tr>\n",
       "    <tr>\n",
       "      <th>37398</th>\n",
       "      <td>0.0</td>\n",
       "      <td>523986010112</td>\n",
       "      <td>1.447600e+09</td>\n",
       "      <td>0.197674</td>\n",
       "      <td>1</td>\n",
       "      <td>107.0</td>\n",
       "      <td>blues</td>\n",
       "      <td>88.01732</td>\n",
       "      <td>328</td>\n",
       "    </tr>\n",
       "  </tbody>\n",
       "</table>\n",
       "</div>"
      ],
      "text/plain": [
       "       user_id       song_id     timestamp  popolarity  usr_rating  duration  \\\n",
       "37858      0.0   17179869185  1.464394e+09    0.151163           1      97.0   \n",
       "7512       0.0   85899345921  1.454597e+09    0.232558           1      53.0   \n",
       "49199      0.0  111669149698  1.454596e+09    0.860465           1      54.0   \n",
       "7174       0.0  489626271744  1.465710e+09    0.069767           1      39.0   \n",
       "37398      0.0  523986010112  1.447600e+09    0.197674           1     107.0   \n",
       "\n",
       "       genre  usr_avgSession  usr_totTrack  \n",
       "37858  blues        88.01732           328  \n",
       "7512   blues        88.01732           328  \n",
       "49199  blues        88.01732           328  \n",
       "7174    rock        88.01732           328  \n",
       "37398  blues        88.01732           328  "
      ]
     },
     "execution_count": 31,
     "metadata": {},
     "output_type": "execute_result"
    }
   ],
   "source": [
    "df.sort_values(by=[\"user_id\",\"song_id\"], ascending = True).head()"
   ]
  },
  {
   "cell_type": "markdown",
   "metadata": {},
   "source": [
    "Let's compare the song_id that will be used for predictions with respect to the merged data"
   ]
  },
  {
   "cell_type": "code",
   "execution_count": 32,
   "metadata": {},
   "outputs": [
    {
     "name": "stdout",
     "output_type": "stream",
     "text": [
      "how many sample? 1265 \n",
      "Exact intersection? False\n",
      "how many common sample? 1209\n",
      "was a fully matching subset? False\n"
     ]
    }
   ],
   "source": [
    "print \"how many sample? %d \" % df_tracks_to_complete.song_id.size\n",
    "print \"Exact intersection? %s\" % str(set(df_preds.song_id).intersection(set(df_tracks_to_complete.song_id)) == set(df_tracks_to_complete.song_id))\n",
    "print \"how many common sample? %d\" % len(set(df_preds.song_id).intersection(set(df_tracks_to_complete.song_id)))\n",
    "print \"was a fully matching subset? %s\" % str(set(df_tracks_to_complete.song_id).issubset(set(df_preds.song_id)))"
   ]
  },
  {
   "cell_type": "markdown",
   "metadata": {},
   "source": [
    "Therefore, there are some elements in $\\textit{df_tracks_to_complete}$ that are not present in $\\textit{df_preds}$.\n",
    "\n",
    "These elements should be filtered out from $\\textit{df_tracks_to_complete}$ since it is not possible to model anything due to the lack of any inforamtion."
   ]
  },
  {
   "cell_type": "code",
   "execution_count": 33,
   "metadata": {},
   "outputs": [
    {
     "name": "stdout",
     "output_type": "stream",
     "text": [
      "In tracks_to_complete.csv there are 56 observations without any session/catalogue information\n"
     ]
    }
   ],
   "source": [
    "## elememnts in df_tracks_to_complete that are not in df_preds ? \n",
    "discrepancy = (set(df_tracks_to_complete.song_id).difference(set(df_preds.song_id)))\n",
    "print \"In tracks_to_complete.csv there are %d observations without any session/catalogue information\" % len(discrepancy)\n",
    "df_tracks_to_complete_filtered = df_tracks_to_complete[~df_tracks_to_complete[\"song_id\"].isin(list(discrepancy))]"
   ]
  },
  {
   "cell_type": "code",
   "execution_count": 34,
   "metadata": {},
   "outputs": [
    {
     "data": {
      "text/plain": [
       "4758"
      ]
     },
     "execution_count": 34,
     "metadata": {},
     "output_type": "execute_result"
    }
   ],
   "source": [
    "len(df.song_id.unique())"
   ]
  },
  {
   "cell_type": "markdown",
   "metadata": {},
   "source": [
    "Up to now, the **cleaned** dataset that will be used for modelling is composed by **101 users**, **5 genres**, **4758 lyrics** and **46084 observations** (sessions)   "
   ]
  },
  {
   "cell_type": "markdown",
   "metadata": {},
   "source": [
    "## Modelling "
   ]
  },
  {
   "cell_type": "markdown",
   "metadata": {},
   "source": [
    "Different techniques should be applied. Standard classifier (e.g., neighbours search and gradient boosting) will be explored. A different solution could arise from the user pattern analysis of lyrics temporal sequences.\n",
    "\n",
    "Aiming to achieve quick resultss, I will divide the data only in training (70%) and test (30%) sets, without performing cross validation for hyper-parameters tuning, as a first approximation to find out the best model. "
   ]
  },
  {
   "cell_type": "code",
   "execution_count": 35,
   "metadata": {
    "collapsed": true
   },
   "outputs": [],
   "source": [
    "from sklearn.model_selection import train_test_split\n",
    "from sklearn.neighbors import KNeighborsClassifier\n",
    "from sklearn.model_selection import KFold"
   ]
  },
  {
   "cell_type": "code",
   "execution_count": 36,
   "metadata": {},
   "outputs": [],
   "source": [
    "from __future__ import print_function\n",
    "\n",
    "import logging\n",
    "import numpy as np\n",
    "from time import time\n",
    "\n",
    "from sklearn.feature_selection import SelectFromModel\n",
    "from sklearn.feature_selection import SelectKBest, chi2\n",
    "from sklearn.linear_model import RidgeClassifier\n",
    "from sklearn.pipeline import Pipeline\n",
    "from sklearn.svm import LinearSVC\n",
    "from sklearn.ensemble import AdaBoostClassifier, GradientBoostingClassifier\n",
    "from sklearn.linear_model import SGDClassifier\n",
    "from sklearn.linear_model import Perceptron\n",
    "from sklearn.linear_model import PassiveAggressiveClassifier\n",
    "from sklearn.naive_bayes import BernoulliNB, MultinomialNB\n",
    "from sklearn.neighbors import KNeighborsClassifier\n",
    "from sklearn.ensemble import RandomForestClassifier\n",
    "from sklearn.utils.extmath import density\n",
    "from sklearn import metrics\n",
    "from sklearn.metrics import classification_report"
   ]
  },
  {
   "cell_type": "code",
   "execution_count": 37,
   "metadata": {
    "collapsed": true
   },
   "outputs": [],
   "source": [
    "def benchmark(clf):\n",
    "    print('_' * 80)\n",
    "    print(\"Training: \")\n",
    "    print(clf)\n",
    "    t0 = time()\n",
    "    clf.fit(X_train, y_train)\n",
    "    train_time = time() - t0\n",
    "    print(\"train time: %0.3fs\" % train_time)\n",
    "\n",
    "    t0 = time()\n",
    "    pred = clf.predict(X_test)\n",
    "    test_time = time() - t0\n",
    "    print(\"test time:  %0.3fs\" % test_time)\n",
    "    \n",
    "    score = metrics.accuracy_score(y_test, pred)\n",
    "    print(\"accuracy:   %0.3f\" % score)\n",
    "    \n",
    "\n",
    "    print(\"classification report:\")\n",
    "    print(metrics.classification_report(y_test, pred))\n",
    "\n",
    "    print(\"confusion matrix:\")\n",
    "    print(metrics.confusion_matrix(y_test, pred))\n",
    "\n",
    "    print()\n",
    "    clf_descr = str(clf).split('(')[0]\n",
    "    return clf_descr, score, train_time, test_time"
   ]
  },
  {
   "cell_type": "markdown",
   "metadata": {},
   "source": [
    "#### Data pre-processing 1"
   ]
  },
  {
   "cell_type": "markdown",
   "metadata": {},
   "source": [
    "Since we are interested in predicting only the genre, I will drop the \"duration\" information that is missing when doing the predictions."
   ]
  },
  {
   "cell_type": "code",
   "execution_count": 38,
   "metadata": {},
   "outputs": [],
   "source": [
    "dfWhole = df.drop(labels=[\"duration\"], axis=1).set_index(\"timestamp\")"
   ]
  },
  {
   "cell_type": "code",
   "execution_count": 39,
   "metadata": {},
   "outputs": [
    {
     "data": {
      "text/html": [
       "<div>\n",
       "<style>\n",
       "    .dataframe thead tr:only-child th {\n",
       "        text-align: right;\n",
       "    }\n",
       "\n",
       "    .dataframe thead th {\n",
       "        text-align: left;\n",
       "    }\n",
       "\n",
       "    .dataframe tbody tr th {\n",
       "        vertical-align: top;\n",
       "    }\n",
       "</style>\n",
       "<table border=\"1\" class=\"dataframe\">\n",
       "  <thead>\n",
       "    <tr style=\"text-align: right;\">\n",
       "      <th></th>\n",
       "      <th>user_id</th>\n",
       "      <th>song_id</th>\n",
       "      <th>popolarity</th>\n",
       "      <th>usr_rating</th>\n",
       "      <th>genre</th>\n",
       "      <th>usr_avgSession</th>\n",
       "      <th>usr_totTrack</th>\n",
       "    </tr>\n",
       "    <tr>\n",
       "      <th>timestamp</th>\n",
       "      <th></th>\n",
       "      <th></th>\n",
       "      <th></th>\n",
       "      <th></th>\n",
       "      <th></th>\n",
       "      <th></th>\n",
       "      <th></th>\n",
       "    </tr>\n",
       "  </thead>\n",
       "  <tbody>\n",
       "    <tr>\n",
       "      <th>1.486218e+09</th>\n",
       "      <td>21.0</td>\n",
       "      <td>7954279432194</td>\n",
       "      <td>0.174419</td>\n",
       "      <td>1</td>\n",
       "      <td>rock</td>\n",
       "      <td>87.872463</td>\n",
       "      <td>574</td>\n",
       "    </tr>\n",
       "    <tr>\n",
       "      <th>1.477860e+09</th>\n",
       "      <td>12.0</td>\n",
       "      <td>10307921510401</td>\n",
       "      <td>0.186047</td>\n",
       "      <td>1</td>\n",
       "      <td>reggae</td>\n",
       "      <td>91.859174</td>\n",
       "      <td>617</td>\n",
       "    </tr>\n",
       "    <tr>\n",
       "      <th>1.479925e+09</th>\n",
       "      <td>90.0</td>\n",
       "      <td>12300786335744</td>\n",
       "      <td>0.081395</td>\n",
       "      <td>1</td>\n",
       "      <td>reggae</td>\n",
       "      <td>93.457371</td>\n",
       "      <td>686</td>\n",
       "    </tr>\n",
       "    <tr>\n",
       "      <th>1.406806e+09</th>\n",
       "      <td>56.0</td>\n",
       "      <td>14156212207616</td>\n",
       "      <td>0.441860</td>\n",
       "      <td>3</td>\n",
       "      <td>blues</td>\n",
       "      <td>101.595625</td>\n",
       "      <td>583</td>\n",
       "    </tr>\n",
       "    <tr>\n",
       "      <th>1.495963e+09</th>\n",
       "      <td>12.0</td>\n",
       "      <td>4853313044481</td>\n",
       "      <td>0.058140</td>\n",
       "      <td>1</td>\n",
       "      <td>rock</td>\n",
       "      <td>91.859174</td>\n",
       "      <td>617</td>\n",
       "    </tr>\n",
       "  </tbody>\n",
       "</table>\n",
       "</div>"
      ],
      "text/plain": [
       "              user_id         song_id  popolarity  usr_rating   genre  \\\n",
       "timestamp                                                               \n",
       "1.486218e+09     21.0   7954279432194    0.174419           1    rock   \n",
       "1.477860e+09     12.0  10307921510401    0.186047           1  reggae   \n",
       "1.479925e+09     90.0  12300786335744    0.081395           1  reggae   \n",
       "1.406806e+09     56.0  14156212207616    0.441860           3   blues   \n",
       "1.495963e+09     12.0   4853313044481    0.058140           1    rock   \n",
       "\n",
       "              usr_avgSession  usr_totTrack  \n",
       "timestamp                                   \n",
       "1.486218e+09       87.872463           574  \n",
       "1.477860e+09       91.859174           617  \n",
       "1.479925e+09       93.457371           686  \n",
       "1.406806e+09      101.595625           583  \n",
       "1.495963e+09       91.859174           617  "
      ]
     },
     "execution_count": 39,
     "metadata": {},
     "output_type": "execute_result"
    }
   ],
   "source": [
    "dfWhole.head()"
   ]
  },
  {
   "cell_type": "markdown",
   "metadata": {},
   "source": [
    "Finally, let's create a train and test dataset by using stratified sampling, to reproduce the relative unbalanced proportions of music genre in the session datasets. Indeeds, some genre frequencies were unbalance already at the level of the track dataset:"
   ]
  },
  {
   "cell_type": "code",
   "execution_count": 40,
   "metadata": {},
   "outputs": [
    {
     "data": {
      "text/plain": [
       "genre\n",
       "blues       807\n",
       "electro     394\n",
       "rap         593\n",
       "reggae      785\n",
       "rock       2406\n",
       "Name: song_id, dtype: int64"
      ]
     },
     "execution_count": 40,
     "metadata": {},
     "output_type": "execute_result"
    }
   ],
   "source": [
    "df_tracks.groupby(\"genre\").count()[\"song_id\"]"
   ]
  },
  {
   "cell_type": "code",
   "execution_count": 41,
   "metadata": {
    "collapsed": true
   },
   "outputs": [],
   "source": [
    "X_train, X_test, y_train, y_test = train_test_split(dfWhole.drop(labels=['genre'], axis=1), dfWhole.genre, test_size = 0.3, stratify=dfWhole.genre,random_state=42)"
   ]
  },
  {
   "cell_type": "markdown",
   "metadata": {},
   "source": [
    "#### Models"
   ]
  },
  {
   "cell_type": "markdown",
   "metadata": {},
   "source": [
    "Several classification approaces are explored. Togheter with the accuracy metrics, a more suitable performance metrics is the f1_score, since genres classes are not balanced."
   ]
  },
  {
   "cell_type": "markdown",
   "metadata": {},
   "source": [
    "I will concentrate more on a kNN classifier. To address the inefficiencies of KD Trees in higher dimensions, the ball tree data structure will be used as algorithms methods. "
   ]
  },
  {
   "cell_type": "code",
   "execution_count": 42,
   "metadata": {},
   "outputs": [
    {
     "name": "stdout",
     "output_type": "stream",
     "text": [
      "================================================================================\n",
      "Ridge Classifier\n",
      "________________________________________________________________________________\n",
      "Training: \n",
      "RidgeClassifier(alpha=1.0, class_weight=None, copy_X=True, fit_intercept=True,\n",
      "        max_iter=None, normalize=False, random_state=None, solver='lsqr',\n",
      "        tol=0.01)\n",
      "train time: 0.108s\n",
      "test time:  0.002s\n",
      "accuracy:   0.359\n",
      "classification report:\n",
      "             precision    recall  f1-score   support\n",
      "\n",
      "      blues       0.36      0.49      0.42      4797\n",
      "    electro       0.00      0.00      0.00       988\n",
      "        rap       0.00      0.00      0.00       922\n",
      "     reggae       0.00      0.00      0.00      2290\n",
      "       rock       0.36      0.54      0.43      4829\n",
      "\n",
      "avg / total       0.25      0.36      0.29     13826\n",
      "\n",
      "confusion matrix:\n",
      "[[2368    0    0    0 2429]\n",
      " [ 428    0    0    0  560]\n",
      " [ 486    0    0    0  436]\n",
      " [1046    0    0    0 1244]\n",
      " [2238    0    0    0 2591]]\n",
      "\n",
      "================================================================================\n",
      "Perceptron\n",
      "________________________________________________________________________________\n",
      "Training: \n",
      "Perceptron(alpha=0.0001, class_weight=None, eta0=1.0, fit_intercept=True,\n",
      "      n_iter=50, n_jobs=1, penalty=None, random_state=0, shuffle=True,\n",
      "      verbose=0, warm_start=False)\n"
     ]
    },
    {
     "name": "stderr",
     "output_type": "stream",
     "text": [
      "/Users/aagostinelli/anaconda/lib/python2.7/site-packages/sklearn/metrics/classification.py:1113: UndefinedMetricWarning: Precision and F-score are ill-defined and being set to 0.0 in labels with no predicted samples.\n",
      "  'precision', 'predicted', average, warn_for)\n"
     ]
    },
    {
     "name": "stdout",
     "output_type": "stream",
     "text": [
      "train time: 0.519s\n",
      "test time:  0.001s\n",
      "accuracy:   0.350\n",
      "classification report:\n",
      "             precision    recall  f1-score   support\n",
      "\n",
      "      blues       1.00      0.00      0.00      4797\n",
      "    electro       0.00      0.00      0.00       988\n",
      "        rap       0.00      0.00      0.00       922\n",
      "     reggae       0.00      0.00      0.00      2290\n",
      "       rock       0.35      1.00      0.52      4829\n",
      "\n",
      "avg / total       0.47      0.35      0.18     13826\n",
      "\n",
      "confusion matrix:\n",
      "[[   7    0    0    0 4790]\n",
      " [   0    0    0    0  988]\n",
      " [   0    0    0    0  922]\n",
      " [   0    0    0    0 2290]\n",
      " [   0    0    0    0 4829]]\n",
      "\n",
      "================================================================================\n",
      "kNN_20_ball\n",
      "________________________________________________________________________________\n",
      "Training: \n",
      "KNeighborsClassifier(algorithm='ball_tree', leaf_size=30, metric='minkowski',\n",
      "           metric_params=None, n_jobs=1, n_neighbors=20, p=2,\n",
      "           weights='uniform')\n",
      "train time: 0.043s\n",
      "test time:  0.059s\n",
      "accuracy:   0.668\n",
      "classification report:\n",
      "             precision    recall  f1-score   support\n",
      "\n",
      "      blues       0.68      0.88      0.77      4797\n",
      "    electro       0.55      0.44      0.49       988\n",
      "        rap       0.49      0.23      0.31       922\n",
      "     reggae       0.62      0.55      0.58      2290\n",
      "       rock       0.71      0.64      0.67      4829\n",
      "\n",
      "avg / total       0.66      0.67      0.65     13826\n",
      "\n",
      "confusion matrix:\n",
      "[[4205   69   34  137  352]\n",
      " [ 204  435   29  122  198]\n",
      " [ 246   41  209  102  324]\n",
      " [ 518   55   31 1268  418]\n",
      " [ 992  184  120  420 3113]]\n",
      "\n",
      "================================================================================\n",
      "kNN_50_ball\n",
      "________________________________________________________________________________\n",
      "Training: \n",
      "KNeighborsClassifier(algorithm='ball_tree', leaf_size=30, metric='minkowski',\n",
      "           metric_params=None, n_jobs=1, n_neighbors=50, p=2,\n",
      "           weights='uniform')\n",
      "train time: 0.058s\n",
      "test time:  0.140s\n",
      "accuracy:   0.551\n",
      "classification report:\n",
      "             precision    recall  f1-score   support\n",
      "\n",
      "      blues       0.59      0.77      0.67      4797\n",
      "    electro       0.43      0.14      0.22       988\n",
      "        rap       0.41      0.06      0.11       922\n",
      "     reggae       0.47      0.35      0.40      2290\n",
      "       rock       0.55      0.60      0.57      4829\n",
      "\n",
      "avg / total       0.53      0.55      0.52     13826\n",
      "\n",
      "confusion matrix:\n",
      "[[3711   41   14  207  824]\n",
      " [ 286  142   10  155  395]\n",
      " [ 326   38   57  108  393]\n",
      " [ 660   13   12  811  794]\n",
      " [1342   97   45  454 2891]]\n",
      "\n",
      "================================================================================\n",
      "kNN_100_ball\n",
      "________________________________________________________________________________\n",
      "Training: \n",
      "KNeighborsClassifier(algorithm='ball_tree', leaf_size=30, metric='minkowski',\n",
      "           metric_params=None, n_jobs=1, n_neighbors=100, p=2,\n",
      "           weights='uniform')\n",
      "train time: 0.042s\n",
      "test time:  0.272s\n",
      "accuracy:   0.485\n",
      "classification report:\n",
      "             precision    recall  f1-score   support\n",
      "\n",
      "      blues       0.50      0.70      0.58      4797\n",
      "    electro       0.22      0.02      0.04       988\n",
      "        rap       0.28      0.02      0.04       922\n",
      "     reggae       0.42      0.20      0.27      2290\n",
      "       rock       0.48      0.59      0.53      4829\n",
      "\n",
      "avg / total       0.45      0.48      0.44     13826\n",
      "\n",
      "confusion matrix:\n",
      "[[3337    9   20  196 1235]\n",
      " [ 404   24    2  100  458]\n",
      " [ 382   11   19   72  438]\n",
      " [ 854   28   11  464  933]\n",
      " [1645   36   15  275 2858]]\n",
      "\n",
      "================================================================================\n",
      "kNN_50\n",
      "________________________________________________________________________________\n",
      "Training: \n",
      "KNeighborsClassifier(algorithm='brute', leaf_size=30, metric='cosine',\n",
      "           metric_params=None, n_jobs=1, n_neighbors=50, p=2,\n",
      "           weights='uniform')\n",
      "train time: 0.025s\n",
      "test time:  14.589s\n",
      "accuracy:   0.347\n",
      "classification report:\n",
      "             precision    recall  f1-score   support\n",
      "\n",
      "      blues       0.35      1.00      0.52      4797\n",
      "    electro       0.00      0.00      0.00       988\n",
      "        rap       0.00      0.00      0.00       922\n",
      "     reggae       0.60      0.00      0.00      2290\n",
      "       rock       0.39      0.00      0.00      4829\n",
      "\n",
      "avg / total       0.36      0.35      0.18     13826\n",
      "\n",
      "confusion matrix:\n",
      "[[4791    0    0    0    6]\n",
      " [ 985    0    0    1    2]\n",
      " [ 922    0    0    0    0]\n",
      " [2281    0    0    3    6]\n",
      " [4819    0    0    1    9]]\n",
      "\n",
      "================================================================================\n",
      "adaboost_50\n",
      "________________________________________________________________________________\n",
      "Training: \n",
      "AdaBoostClassifier(algorithm='SAMME.R', base_estimator=None,\n",
      "          learning_rate=1.0, n_estimators=50, random_state=None)\n",
      "train time: 2.244s\n",
      "test time:  0.108s\n",
      "accuracy:   0.566\n",
      "classification report:\n",
      "             precision    recall  f1-score   support\n",
      "\n",
      "      blues       0.69      0.75      0.72      4797\n",
      "    electro       0.00      0.00      0.00       988\n",
      "        rap       0.20      0.01      0.02       922\n",
      "     reggae       0.29      0.02      0.04      2290\n",
      "       rock       0.50      0.86      0.63      4829\n",
      "\n",
      "avg / total       0.47      0.57      0.48     13826\n",
      "\n",
      "confusion matrix:\n",
      "[[3615    2    0   65 1115]\n",
      " [ 229    0    0    7  752]\n",
      " [  30    0   12    9  871]\n",
      " [ 766    4    7   52 1461]\n",
      " [ 598    0   40   46 4145]]\n",
      "\n",
      "================================================================================\n",
      "adaboost_500\n",
      "________________________________________________________________________________\n",
      "Training: \n",
      "AdaBoostClassifier(algorithm='SAMME.R', base_estimator=None,\n",
      "          learning_rate=1.0, n_estimators=500, random_state=None)\n",
      "train time: 21.738s\n",
      "test time:  0.972s\n",
      "accuracy:   0.573\n",
      "classification report:\n",
      "             precision    recall  f1-score   support\n",
      "\n",
      "      blues       0.71      0.75      0.73      4797\n",
      "    electro       0.78      0.01      0.03       988\n",
      "        rap       0.20      0.03      0.06       922\n",
      "     reggae       0.42      0.07      0.12      2290\n",
      "       rock       0.50      0.86      0.63      4829\n",
      "\n",
      "avg / total       0.56      0.57      0.50     13826\n",
      "\n",
      "confusion matrix:\n",
      "[[3585    1    7  121 1083]\n",
      " [ 211   14    8   27  728]\n",
      " [  35    0   32   16  839]\n",
      " [ 660    0   27  167 1436]\n",
      " [ 538    3   86   71 4131]]\n",
      "\n",
      "================================================================================\n",
      "gradientboost_2000\n",
      "________________________________________________________________________________\n",
      "Training: \n",
      "GradientBoostingClassifier(criterion='friedman_mse', init=None,\n",
      "              learning_rate=0.1, loss='deviance', max_depth=3,\n",
      "              max_features=None, max_leaf_nodes=None,\n",
      "              min_impurity_split=1e-07, min_samples_leaf=1,\n",
      "              min_samples_split=2, min_weight_fraction_leaf=0.0,\n",
      "              n_estimators=2000, presort='auto', random_state=None,\n",
      "              subsample=1.0, verbose=0, warm_start=False)\n",
      "train time: 157.614s\n",
      "test time:  1.586s\n",
      "accuracy:   0.881\n",
      "classification report:\n",
      "             precision    recall  f1-score   support\n",
      "\n",
      "      blues       0.98      0.92      0.95      4797\n",
      "    electro       0.90      0.78      0.84       988\n",
      "        rap       0.79      0.65      0.71       922\n",
      "     reggae       0.90      0.79      0.84      2290\n",
      "       rock       0.81      0.94      0.87      4829\n",
      "\n",
      "avg / total       0.89      0.88      0.88     13826\n",
      "\n",
      "confusion matrix:\n",
      "[[4437   15   16   45  284]\n",
      " [  13  775   17   24  159]\n",
      " [  10    6  596   36  274]\n",
      " [  27   35   28 1818  382]\n",
      " [  49   26   98  105 4551]]\n",
      "\n",
      "================================================================================\n",
      "gradientboost_3000\n",
      "________________________________________________________________________________\n",
      "Training: \n",
      "GradientBoostingClassifier(criterion='friedman_mse', init=None,\n",
      "              learning_rate=0.1, loss='deviance', max_depth=3,\n",
      "              max_features=None, max_leaf_nodes=None,\n",
      "              min_impurity_split=1e-07, min_samples_leaf=1,\n",
      "              min_samples_split=2, min_weight_fraction_leaf=0.0,\n",
      "              n_estimators=3000, presort='auto', random_state=None,\n",
      "              subsample=1.0, verbose=0, warm_start=False)\n",
      "train time: 277.943s\n"
     ]
    },
    {
     "name": "stdout",
     "output_type": "stream",
     "text": [
      "test time:  2.666s\n",
      "accuracy:   0.912\n",
      "classification report:\n",
      "             precision    recall  f1-score   support\n",
      "\n",
      "      blues       0.98      0.95      0.97      4797\n",
      "    electro       0.92      0.85      0.88       988\n",
      "        rap       0.83      0.74      0.78       922\n",
      "     reggae       0.92      0.86      0.89      2290\n",
      "       rock       0.86      0.95      0.90      4829\n",
      "\n",
      "avg / total       0.91      0.91      0.91     13826\n",
      "\n",
      "confusion matrix:\n",
      "[[4571   13   12   21  180]\n",
      " [   5  838   13   19  113]\n",
      " [   9    5  680   31  197]\n",
      " [  20   18   20 1960  272]\n",
      " [  43   32   91   99 4564]]\n",
      "\n",
      "================================================================================\n",
      "Random forest\n",
      "________________________________________________________________________________\n",
      "Training: \n",
      "RandomForestClassifier(bootstrap=True, class_weight=None, criterion='gini',\n",
      "            max_depth=None, max_features='auto', max_leaf_nodes=None,\n",
      "            min_impurity_split=1e-07, min_samples_leaf=1,\n",
      "            min_samples_split=2, min_weight_fraction_leaf=0.0,\n",
      "            n_estimators=500, n_jobs=1, oob_score=False, random_state=None,\n",
      "            verbose=0, warm_start=False)\n",
      "train time: 23.317s\n",
      "test time:  2.690s\n",
      "accuracy:   0.612\n",
      "classification report:\n",
      "             precision    recall  f1-score   support\n",
      "\n",
      "      blues       0.76      0.78      0.77      4797\n",
      "    electro       0.44      0.29      0.35       988\n",
      "        rap       0.28      0.19      0.23       922\n",
      "     reggae       0.48      0.38      0.42      2290\n",
      "       rock       0.58      0.70      0.63      4829\n",
      "\n",
      "avg / total       0.60      0.61      0.60     13826\n",
      "\n",
      "confusion matrix:\n",
      "[[3762   68   72  233  662]\n",
      " [ 146  284   44  113  401]\n",
      " [ 100   32  179  101  510]\n",
      " [ 377   99   84  863  867]\n",
      " [ 534  162  264  498 3371]]\n",
      "\n"
     ]
    }
   ],
   "source": [
    "results = []\n",
    "for clf, name in (\n",
    "        (RidgeClassifier(tol=1e-2, solver=\"lsqr\"), \"Ridge Classifier\"),\n",
    "        (Perceptron(n_iter=50), \"Perceptron\"),\n",
    "        (KNeighborsClassifier(n_neighbors=20, algorithm = \"ball_tree\"), \"kNN_20_ball\"),\n",
    "        #(KNeighborsClassifier(n_neighbors=10, algorithm = \"ball_tree\"), \"kNN_10_ball\"),\n",
    "        (KNeighborsClassifier(n_neighbors=50, algorithm = \"ball_tree\"), \"kNN_50_ball\"),\n",
    "        #(KNeighborsClassifier(n_neighbors=5, algorithm = \"ball_tree\"), \"kNN_5_ball\"),\n",
    "        (KNeighborsClassifier(n_neighbors=100, algorithm = \"ball_tree\"), \"kNN_100_ball\"),\n",
    "        #(KNeighborsClassifier(n_neighbors=20, metric=\"cosine\", algorithm = \"brute\"), \"kNN_1\"),\n",
    "        (KNeighborsClassifier(n_neighbors=50, metric=\"cosine\",algorithm = \"brute\"), \"kNN_50\"),\n",
    "        #(KNeighborsClassifier(n_neighbors=200, metric=\"cosine\",algorithm = \"brute\"), \"kNN_200\"),\n",
    "        (AdaBoostClassifier( n_estimators=50), \"adaboost_50\"),\n",
    "        (AdaBoostClassifier( n_estimators=500), \"adaboost_500\"),\n",
    "        (GradientBoostingClassifier(n_estimators=2000), \"gradientboost_2000\"),\n",
    "        (GradientBoostingClassifier(n_estimators=3000), \"gradientboost_3000\"),\n",
    "        #(GradientBoostingClassifier(n_estimators=900), \"gradientboost_900\"),\n",
    "        #(GradientBoostingClassifier(n_estimators=1200), \"gradientboost_1200\"),\n",
    "        #(GradientBoostingClassifier(n_estimators=1000), \"gradientboost_1000\"),\n",
    "        #(GradientBoostingClassifier(n_estimators=1500), \"gradientboost_1500\"),\n",
    "        (RandomForestClassifier(n_estimators=500), \"Random forest\")):\n",
    "    print('=' * 80)\n",
    "    print(name)\n",
    "    results.append(benchmark(clf))"
   ]
  },
  {
   "cell_type": "code",
   "execution_count": 43,
   "metadata": {},
   "outputs": [
    {
     "name": "stdout",
     "output_type": "stream",
     "text": [
      "================================================================================\n",
      "L2 penalty\n",
      "________________________________________________________________________________\n",
      "Training: \n",
      "LinearSVC(C=1.0, class_weight=None, dual=False, fit_intercept=True,\n",
      "     intercept_scaling=1, loss='squared_hinge', max_iter=1000,\n",
      "     multi_class='ovr', penalty='l2', random_state=None, tol=0.001,\n",
      "     verbose=0)\n",
      "train time: 0.128s\n",
      "test time:  0.002s\n",
      "accuracy:   0.349\n",
      "classification report:\n",
      "             precision    recall  f1-score   support\n",
      "\n",
      "      blues       0.00      0.00      0.00      4797\n",
      "    electro       0.00      0.00      0.00       988\n",
      "        rap       0.00      0.00      0.00       922\n",
      "     reggae       0.00      0.00      0.00      2290\n",
      "       rock       0.35      1.00      0.52      4829\n",
      "\n",
      "avg / total       0.12      0.35      0.18     13826\n",
      "\n",
      "confusion matrix:\n",
      "[[   0    0    0    0 4797]\n",
      " [   0    0    0    0  988]\n",
      " [   0    0    0    0  922]\n",
      " [   0    0    0    0 2290]\n",
      " [   0    0    0    0 4829]]\n",
      "\n",
      "________________________________________________________________________________\n",
      "Training: \n",
      "SGDClassifier(alpha=0.0001, average=False, class_weight=None, epsilon=0.1,\n",
      "       eta0=0.0, fit_intercept=True, l1_ratio=0.15,\n",
      "       learning_rate='optimal', loss='hinge', n_iter=50, n_jobs=1,\n",
      "       penalty='l2', power_t=0.5, random_state=None, shuffle=True,\n",
      "       verbose=0, warm_start=False)\n",
      "train time: 0.647s\n",
      "test time:  0.002s\n",
      "accuracy:   0.350\n",
      "classification report:\n",
      "             precision    recall  f1-score   support\n",
      "\n",
      "      blues       1.00      0.00      0.00      4797\n",
      "    electro       0.00      0.00      0.00       988\n",
      "        rap       0.00      0.00      0.00       922\n",
      "     reggae       0.00      0.00      0.00      2290\n",
      "       rock       0.35      1.00      0.52      4829\n",
      "\n",
      "avg / total       0.47      0.35      0.18     13826\n",
      "\n",
      "confusion matrix:\n",
      "[[   7    0    0    0 4790]\n",
      " [   0    0    0    0  988]\n",
      " [   0    0    0    0  922]\n",
      " [   0    0    0    0 2290]\n",
      " [   0    0    0    0 4829]]\n",
      "\n",
      "================================================================================\n",
      "L1 penalty\n",
      "________________________________________________________________________________\n",
      "Training: \n",
      "LinearSVC(C=1.0, class_weight=None, dual=False, fit_intercept=True,\n",
      "     intercept_scaling=1, loss='squared_hinge', max_iter=1000,\n",
      "     multi_class='ovr', penalty='l1', random_state=None, tol=0.001,\n",
      "     verbose=0)\n",
      "train time: 5.969s\n",
      "test time:  0.004s\n",
      "accuracy:   0.570\n",
      "classification report:\n",
      "             precision    recall  f1-score   support\n",
      "\n",
      "      blues       0.68      0.77      0.72      4797\n",
      "    electro       0.00      0.00      0.00       988\n",
      "        rap       0.00      0.00      0.00       922\n",
      "     reggae       0.00      0.00      0.00      2290\n",
      "       rock       0.50      0.86      0.63      4829\n",
      "\n",
      "avg / total       0.41      0.57      0.47     13826\n",
      "\n",
      "confusion matrix:\n",
      "[[3711    0    0    0 1086]\n",
      " [ 237    0    0    0  751]\n",
      " [  45    0    0    0  877]\n",
      " [ 811    0    0    0 1479]\n",
      " [ 659    0    0    0 4170]]\n",
      "\n",
      "________________________________________________________________________________\n",
      "Training: \n",
      "SGDClassifier(alpha=0.0001, average=False, class_weight=None, epsilon=0.1,\n",
      "       eta0=0.0, fit_intercept=True, l1_ratio=0.15,\n",
      "       learning_rate='optimal', loss='hinge', n_iter=50, n_jobs=1,\n",
      "       penalty='l1', power_t=0.5, random_state=None, shuffle=True,\n",
      "       verbose=0, warm_start=False)\n",
      "train time: 0.884s\n",
      "test time:  0.002s\n",
      "accuracy:   0.166\n",
      "classification report:\n",
      "             precision    recall  f1-score   support\n",
      "\n",
      "      blues       1.00      0.00      0.00      4797\n",
      "    electro       0.00      0.00      0.00       988\n",
      "        rap       0.00      0.00      0.00       922\n",
      "     reggae       0.17      1.00      0.28      2290\n",
      "       rock       0.00      0.00      0.00      4829\n",
      "\n",
      "avg / total       0.37      0.17      0.05     13826\n",
      "\n",
      "confusion matrix:\n",
      "[[   7    0    0 4790    0]\n",
      " [   0    0    0  988    0]\n",
      " [   0    0    0  922    0]\n",
      " [   0    0    0 2290    0]\n",
      " [   0    0    0 4829    0]]\n",
      "\n"
     ]
    }
   ],
   "source": [
    "for penalty in [\"l2\", \"l1\"]:\n",
    "    print('=' * 80)\n",
    "    print(\"%s penalty\" % penalty.upper())\n",
    "    # Train Liblinear model\n",
    "    results.append(benchmark(LinearSVC(penalty=penalty, dual=False,\n",
    "                                       tol=1e-3)))\n",
    "\n",
    "    # Train SGD model\n",
    "    results.append(benchmark(SGDClassifier(alpha=.0001, n_iter=50,\n",
    "                                           penalty=penalty)))"
   ]
  },
  {
   "cell_type": "code",
   "execution_count": 44,
   "metadata": {},
   "outputs": [
    {
     "name": "stdout",
     "output_type": "stream",
     "text": [
      "================================================================================\n",
      "Naive Bayes\n",
      "________________________________________________________________________________\n",
      "Training: \n",
      "MultinomialNB(alpha=0.01, class_prior=None, fit_prior=True)\n",
      "train time: 0.080s\n",
      "test time:  0.002s\n",
      "accuracy:   0.106\n",
      "classification report:\n",
      "             precision    recall  f1-score   support\n",
      "\n",
      "      blues       0.39      0.05      0.10      4797\n",
      "    electro       0.08      0.46      0.13       988\n",
      "        rap       0.07      0.48      0.12       922\n",
      "     reggae       0.13      0.00      0.01      2290\n",
      "       rock       0.36      0.06      0.11      4829\n",
      "\n",
      "avg / total       0.29      0.11      0.09     13826\n",
      "\n",
      "confusion matrix:\n",
      "[[ 263 2000 2230   25  279]\n",
      " [  41  454  416    3   74]\n",
      " [  54  365  440    2   61]\n",
      " [  94 1059  985    7  145]\n",
      " [ 225 2164 2117   15  308]]\n",
      "\n",
      "________________________________________________________________________________\n",
      "Training: \n",
      "BernoulliNB(alpha=0.01, binarize=0.0, class_prior=None, fit_prior=True)\n",
      "train time: 0.082s\n",
      "test time:  0.003s\n",
      "accuracy:   0.350\n",
      "classification report:\n",
      "             precision    recall  f1-score   support\n",
      "\n",
      "      blues       0.40      0.01      0.02      4797\n",
      "    electro       0.00      0.00      0.00       988\n",
      "        rap       0.00      0.00      0.00       922\n",
      "     reggae       0.00      0.00      0.00      2290\n",
      "       rock       0.35      0.99      0.52      4829\n",
      "\n",
      "avg / total       0.26      0.35      0.19     13826\n",
      "\n",
      "confusion matrix:\n",
      "[[  37    0    0    0 4760]\n",
      " [   0    0    0    0  988]\n",
      " [   8    0    0    0  914]\n",
      " [  18    0    0    0 2272]\n",
      " [  29    0    0    0 4800]]\n",
      "\n"
     ]
    }
   ],
   "source": [
    "# Train sparse Naive Bayes classifiers\n",
    "print('=' * 80)\n",
    "print(\"Naive Bayes\")\n",
    "results.append(benchmark(MultinomialNB(alpha=.01)))\n",
    "results.append(benchmark(BernoulliNB(alpha=.01)))"
   ]
  },
  {
   "cell_type": "code",
   "execution_count": 45,
   "metadata": {},
   "outputs": [
    {
     "data": {
      "image/png": "[encoded data removed]",
      "text/plain": [
       "<matplotlib.figure.Figure at 0x1185e2390>"
      ]
     },
     "metadata": {},
     "output_type": "display_data"
    }
   ],
   "source": [
    "indices = np.arange(len(results))\n",
    "\n",
    "results = [[x[i] for x in results] for i in range(4)]\n",
    "\n",
    "clf_names, score, training_time, test_time = results\n",
    "training_time = np.array(training_time) / np.max(training_time)\n",
    "test_time = np.array(test_time) / np.max(test_time)\n",
    "\n",
    "plt.figure(figsize=(12, 8))\n",
    "plt.title(\"Score\")\n",
    "plt.barh(indices, score, .2, label=\"score\", color='navy')\n",
    "plt.barh(indices + .3, training_time, .2, label=\"training time\",\n",
    "         color='c')\n",
    "plt.barh(indices + .6, test_time, .2, label=\"test time\", color='darkorange')\n",
    "plt.yticks(())\n",
    "plt.legend(loc='best')\n",
    "plt.subplots_adjust(left=.25)\n",
    "plt.subplots_adjust(top=.95)\n",
    "plt.subplots_adjust(bottom=.05)\n",
    "\n",
    "for i, c in zip(indices, clf_names):\n",
    "    plt.text(-.3, i, c)\n",
    "\n",
    "plt.show()"
   ]
  },
  {
   "cell_type": "markdown",
   "metadata": {},
   "source": [
    "### Best Hyperparameters Grdid Search with Cross Validation"
   ]
  },
  {
   "cell_type": "markdown",
   "metadata": {},
   "source": [
    "To achieve better results with respect to those already obtained, a fine-tuning of the hyper-parameters by mean of a gridSearch cross validation shoudl be expected. It is highly computational requirinq, though."
   ]
  },
  {
   "cell_type": "markdown",
   "metadata": {},
   "source": [
    "## Running the best model on the unobserved dataset"
   ]
  },
  {
   "cell_type": "markdown",
   "metadata": {},
   "source": [
    "The **best preformance** has been achieved by using a **GradientBoostingClassifier** with **3000 estimators** (decision trees). This model has performed with an **accuracy of 91.2%** and an average **f1_score of 91% ** on the test set."
   ]
  },
  {
   "cell_type": "markdown",
   "metadata": {},
   "source": [
    "The structure of the training and test sets is recreated: "
   ]
  },
  {
   "cell_type": "code",
   "execution_count": 42,
   "metadata": {},
   "outputs": [],
   "source": [
    "df_preds = df_preds.drop(labels=[\"duration\",\"genre\"], axis=1).set_index(\"timestamp\")"
   ]
  },
  {
   "cell_type": "code",
   "execution_count": 43,
   "metadata": {
    "collapsed": true
   },
   "outputs": [],
   "source": [
    "bestModel = GradientBoostingClassifier(n_estimators=3000)"
   ]
  },
  {
   "cell_type": "code",
   "execution_count": 44,
   "metadata": {},
   "outputs": [
    {
     "data": {
      "text/plain": [
       "GradientBoostingClassifier(criterion='friedman_mse', init=None,\n",
       "              learning_rate=0.1, loss='deviance', max_depth=3,\n",
       "              max_features=None, max_leaf_nodes=None,\n",
       "              min_impurity_split=1e-07, min_samples_leaf=1,\n",
       "              min_samples_split=2, min_weight_fraction_leaf=0.0,\n",
       "              n_estimators=3000, presort='auto', random_state=None,\n",
       "              subsample=1.0, verbose=0, warm_start=False)"
      ]
     },
     "execution_count": 44,
     "metadata": {},
     "output_type": "execute_result"
    }
   ],
   "source": [
    "bestModel.fit(dfWhole.drop(labels=\"genre\", axis=1), dfWhole.genre)"
   ]
  },
  {
   "cell_type": "code",
   "execution_count": 45,
   "metadata": {},
   "outputs": [],
   "source": [
    "import pickle\n",
    "pickle.dump( bestModel, open( \"BestModel.p\", \"wb\" ) )"
   ]
  },
  {
   "cell_type": "markdown",
   "metadata": {},
   "source": [
    "Finally, prediction of the music genre are generetaed and printed out on a csv file, after having filtered for uninformative tracks with any information in the session files. "
   ]
  },
  {
   "cell_type": "code",
   "execution_count": 46,
   "metadata": {},
   "outputs": [],
   "source": [
    "pred = bestModel.predict(df_preds)"
   ]
  },
  {
   "cell_type": "code",
   "execution_count": 47,
   "metadata": {},
   "outputs": [],
   "source": [
    "df_preds[\"predicted_genre\"] = pred"
   ]
  },
  {
   "cell_type": "code",
   "execution_count": 48,
   "metadata": {},
   "outputs": [],
   "source": [
    "df_preds = df_preds.reset_index()"
   ]
  },
  {
   "cell_type": "code",
   "execution_count": 49,
   "metadata": {},
   "outputs": [],
   "source": [
    "#df_preds[[\"user_id\",\"song_id\",\"timestamp\"]].sort_values([\"user_id\",\"song_id\",\"timestamp\"])"
   ]
  },
  {
   "cell_type": "code",
   "execution_count": 144,
   "metadata": {},
   "outputs": [],
   "source": [
    "df_preds[[\"song_id\",\"predicted_genre\"]].to_csv(\"tmp_overall_predictions.csv\",index =False)"
   ]
  },
  {
   "cell_type": "code",
   "execution_count": 51,
   "metadata": {},
   "outputs": [],
   "source": [
    "filteredLis = (list(set(df_preds.song_id).intersection(set(df_tracks_to_complete.song_id))))"
   ]
  },
  {
   "cell_type": "markdown",
   "metadata": {},
   "source": [
    "For a given song_id there might be multiple answers due to: \n",
    "\n",
    "- same genre predictions from different user_id\n",
    "- different genre predictions from different user_id\n",
    "\n",
    "In the first case, a filtering across replicates will be usesd, whereas for the second case for simplicity the first answer among the possible outcomes will be picked up.   "
   ]
  },
  {
   "cell_type": "code",
   "execution_count": 70,
   "metadata": {},
   "outputs": [],
   "source": [
    "df_predsFiltered = df_preds[[\"song_id\",\"predicted_genre\"]].sort_values([\"song_id\",\"predicted_genre\"]).drop_duplicates(keep=\"first\")"
   ]
  },
  {
   "cell_type": "code",
   "execution_count": 140,
   "metadata": {},
   "outputs": [
    {
     "name": "stdout",
     "output_type": "stream",
     "text": [
      "(1209, 2)\n"
     ]
    }
   ],
   "source": [
    "df_Final = df_predsFiltered.drop_duplicates(subset=\"song_id\", keep=\"first\")\n",
    "print(df_Final.shape)"
   ]
  },
  {
   "cell_type": "markdown",
   "metadata": {},
   "source": [
    "This was a quick and dirty work-around. In order to map the outcome best estimation with the genre measured distribution, the best choice would be done by extracting a random number $f_r$ from a uniform distribution in [0,1] and comparing its value with the per class frequecnies, given by:\n"
   ]
  },
  {
   "cell_type": "code",
   "execution_count": 136,
   "metadata": {},
   "outputs": [
    {
     "data": {
      "text/plain": [
       "(1451, 2)"
      ]
     },
     "execution_count": 136,
     "metadata": {},
     "output_type": "execute_result"
    }
   ],
   "source": [
    "df_predsFiltered[df_predsFiltered.song_id.isin(filteredLis)].shape"
   ]
  },
  {
   "cell_type": "code",
   "execution_count": 142,
   "metadata": {},
   "outputs": [
    {
     "data": {
      "text/plain": [
       "genre\n",
       "blues      0.346932\n",
       "electro    0.071500\n",
       "rap        0.066661\n",
       "reggae     0.165611\n",
       "rock       0.349297\n",
       "Name: song_id, dtype: float64"
      ]
     },
     "execution_count": 142,
     "metadata": {},
     "output_type": "execute_result"
    }
   ],
   "source": [
    "df.groupby(\"genre\").count()[\"song_id\"]/df.shape[0]"
   ]
  },
  {
   "cell_type": "markdown",
   "metadata": {},
   "source": [
    "So that:\n",
    "  - if $fgenre_j < fr < fgenre_i$  --> Genre \"i\" is chosen \n",
    "  - if $f_r < fgenre_k< fgenre_i < fgenre_j$ --> Genre \"k\" is chosen \n",
    "  - ad so on ..\n",
    "  "
   ]
  },
  {
   "cell_type": "markdown",
   "metadata": {},
   "source": [
    "We can finally save the list of predictions in the format requested by the test"
   ]
  },
  {
   "cell_type": "code",
   "execution_count": 143,
   "metadata": {
    "collapsed": true
   },
   "outputs": [],
   "source": [
    "df_predsFiltered.to_csv(\"solutions.csv\",index =False)"
   ]
  },
  {
   "cell_type": "markdown",
   "metadata": {},
   "source": [
    "# Appendix "
   ]
  },
  {
   "cell_type": "markdown",
   "metadata": {},
   "source": [
    "By using only the information given by song_id, user_id and the number of times a lyrics was played (proxy of the rating), it is possible to perform a pivot of the previous dataframes in order to create a Df with lyrics labels associated to a given combination of user. This methodology is closer to what is usually done in collaborative filtering but it is not as performing as the previous approach"
   ]
  },
  {
   "cell_type": "markdown",
   "metadata": {},
   "source": [
    "#### Data pre-processing 2"
   ]
  },
  {
   "cell_type": "code",
   "execution_count": 64,
   "metadata": {
    "collapsed": true
   },
   "outputs": [],
   "source": [
    "df_filtered = df.drop(labels=[\"timestamp\"], axis=1).drop_duplicates(keep=\"first\")"
   ]
  },
  {
   "cell_type": "markdown",
   "metadata": {},
   "source": [
    "Pivoting"
   ]
  },
  {
   "cell_type": "code",
   "execution_count": 65,
   "metadata": {},
   "outputs": [],
   "source": [
    "df_pivot = df_filtered.pivot(index = 'song_id', columns ='user_id', values = 'usr_rating').fillna(0).reset_index()"
   ]
  },
  {
   "cell_type": "code",
   "execution_count": 66,
   "metadata": {},
   "outputs": [],
   "source": [
    "reshaped_df = (df_pivot\n",
    "               .merge(df_filtered.drop(labels=[\"user_id\",\"usr_rating\",\"usr_avgSession\",\"duration\",\"usr_totTrack\",\"popolarity\"], axis=1), how = \"inner\", on=[\"song_id\"])\n",
    "               .drop_duplicates(keep = \"first\"))"
   ]
  },
  {
   "cell_type": "markdown",
   "metadata": {},
   "source": [
    "It is possible now to create a train and test dataset by using stratified sampling, to respect the relative proportions of music genres in the session datasets. Indees, some genre frequencies were unbalance already at the level of the track dataset"
   ]
  },
  {
   "cell_type": "code",
   "execution_count": 67,
   "metadata": {},
   "outputs": [
    {
     "data": {
      "text/plain": [
       "genre\n",
       "blues       807\n",
       "electro     394\n",
       "rap         593\n",
       "reggae      785\n",
       "rock       2406\n",
       "Name: song_id, dtype: int64"
      ]
     },
     "execution_count": 67,
     "metadata": {},
     "output_type": "execute_result"
    }
   ],
   "source": [
    "df_tracks.groupby(\"genre\").count()[\"song_id\"]"
   ]
  },
  {
   "cell_type": "code",
   "execution_count": 68,
   "metadata": {},
   "outputs": [],
   "source": [
    "X_train, X_test, y_train, y_test = train_test_split(reshaped_df.drop(labels=['genre'], axis=1), reshaped_df.genre, test_size = 0.3, stratify=reshaped_df.genre,random_state=42)"
   ]
  },
  {
   "cell_type": "code",
   "execution_count": 69,
   "metadata": {},
   "outputs": [
    {
     "data": {
      "text/html": [
       "<div>\n",
       "<style>\n",
       "    .dataframe thead tr:only-child th {\n",
       "        text-align: right;\n",
       "    }\n",
       "\n",
       "    .dataframe thead th {\n",
       "        text-align: left;\n",
       "    }\n",
       "\n",
       "    .dataframe tbody tr th {\n",
       "        vertical-align: top;\n",
       "    }\n",
       "</style>\n",
       "<table border=\"1\" class=\"dataframe\">\n",
       "  <thead>\n",
       "    <tr style=\"text-align: right;\">\n",
       "      <th></th>\n",
       "      <th>song_id</th>\n",
       "      <th>0.0</th>\n",
       "      <th>1.0</th>\n",
       "      <th>2.0</th>\n",
       "      <th>3.0</th>\n",
       "      <th>4.0</th>\n",
       "      <th>5.0</th>\n",
       "      <th>6.0</th>\n",
       "      <th>7.0</th>\n",
       "      <th>8.0</th>\n",
       "      <th>...</th>\n",
       "      <th>91.0</th>\n",
       "      <th>92.0</th>\n",
       "      <th>93.0</th>\n",
       "      <th>94.0</th>\n",
       "      <th>95.0</th>\n",
       "      <th>96.0</th>\n",
       "      <th>97.0</th>\n",
       "      <th>98.0</th>\n",
       "      <th>99.0</th>\n",
       "      <th>100.0</th>\n",
       "    </tr>\n",
       "  </thead>\n",
       "  <tbody>\n",
       "    <tr>\n",
       "      <th>6858</th>\n",
       "      <td>2869038153730</td>\n",
       "      <td>0.0</td>\n",
       "      <td>0.0</td>\n",
       "      <td>0.0</td>\n",
       "      <td>0.0</td>\n",
       "      <td>0.0</td>\n",
       "      <td>0.0</td>\n",
       "      <td>0.0</td>\n",
       "      <td>0.0</td>\n",
       "      <td>0.0</td>\n",
       "      <td>...</td>\n",
       "      <td>0.0</td>\n",
       "      <td>0.0</td>\n",
       "      <td>0.0</td>\n",
       "      <td>0.0</td>\n",
       "      <td>0.0</td>\n",
       "      <td>0.0</td>\n",
       "      <td>0.0</td>\n",
       "      <td>0.0</td>\n",
       "      <td>0.0</td>\n",
       "      <td>0.0</td>\n",
       "    </tr>\n",
       "    <tr>\n",
       "      <th>33258</th>\n",
       "      <td>13589276524546</td>\n",
       "      <td>0.0</td>\n",
       "      <td>0.0</td>\n",
       "      <td>0.0</td>\n",
       "      <td>0.0</td>\n",
       "      <td>0.0</td>\n",
       "      <td>0.0</td>\n",
       "      <td>1.0</td>\n",
       "      <td>0.0</td>\n",
       "      <td>1.0</td>\n",
       "      <td>...</td>\n",
       "      <td>0.0</td>\n",
       "      <td>1.0</td>\n",
       "      <td>0.0</td>\n",
       "      <td>0.0</td>\n",
       "      <td>0.0</td>\n",
       "      <td>0.0</td>\n",
       "      <td>0.0</td>\n",
       "      <td>0.0</td>\n",
       "      <td>0.0</td>\n",
       "      <td>0.0</td>\n",
       "    </tr>\n",
       "    <tr>\n",
       "      <th>33158</th>\n",
       "      <td>13554916786176</td>\n",
       "      <td>0.0</td>\n",
       "      <td>1.0</td>\n",
       "      <td>0.0</td>\n",
       "      <td>0.0</td>\n",
       "      <td>1.0</td>\n",
       "      <td>0.0</td>\n",
       "      <td>0.0</td>\n",
       "      <td>0.0</td>\n",
       "      <td>0.0</td>\n",
       "      <td>...</td>\n",
       "      <td>0.0</td>\n",
       "      <td>0.0</td>\n",
       "      <td>0.0</td>\n",
       "      <td>0.0</td>\n",
       "      <td>0.0</td>\n",
       "      <td>0.0</td>\n",
       "      <td>0.0</td>\n",
       "      <td>0.0</td>\n",
       "      <td>0.0</td>\n",
       "      <td>0.0</td>\n",
       "    </tr>\n",
       "    <tr>\n",
       "      <th>34350</th>\n",
       "      <td>14035953123330</td>\n",
       "      <td>0.0</td>\n",
       "      <td>1.0</td>\n",
       "      <td>0.0</td>\n",
       "      <td>0.0</td>\n",
       "      <td>0.0</td>\n",
       "      <td>0.0</td>\n",
       "      <td>0.0</td>\n",
       "      <td>0.0</td>\n",
       "      <td>0.0</td>\n",
       "      <td>...</td>\n",
       "      <td>0.0</td>\n",
       "      <td>2.0</td>\n",
       "      <td>0.0</td>\n",
       "      <td>0.0</td>\n",
       "      <td>0.0</td>\n",
       "      <td>0.0</td>\n",
       "      <td>0.0</td>\n",
       "      <td>0.0</td>\n",
       "      <td>0.0</td>\n",
       "      <td>0.0</td>\n",
       "    </tr>\n",
       "    <tr>\n",
       "      <th>26180</th>\n",
       "      <td>10642928959488</td>\n",
       "      <td>0.0</td>\n",
       "      <td>0.0</td>\n",
       "      <td>0.0</td>\n",
       "      <td>0.0</td>\n",
       "      <td>0.0</td>\n",
       "      <td>0.0</td>\n",
       "      <td>0.0</td>\n",
       "      <td>0.0</td>\n",
       "      <td>0.0</td>\n",
       "      <td>...</td>\n",
       "      <td>1.0</td>\n",
       "      <td>0.0</td>\n",
       "      <td>0.0</td>\n",
       "      <td>0.0</td>\n",
       "      <td>0.0</td>\n",
       "      <td>0.0</td>\n",
       "      <td>0.0</td>\n",
       "      <td>0.0</td>\n",
       "      <td>0.0</td>\n",
       "      <td>1.0</td>\n",
       "    </tr>\n",
       "  </tbody>\n",
       "</table>\n",
       "<p>5 rows × 102 columns</p>\n",
       "</div>"
      ],
      "text/plain": [
       "              song_id  0.0  1.0  2.0  3.0  4.0  5.0  6.0  7.0  8.0  ...    \\\n",
       "6858    2869038153730  0.0  0.0  0.0  0.0  0.0  0.0  0.0  0.0  0.0  ...     \n",
       "33258  13589276524546  0.0  0.0  0.0  0.0  0.0  0.0  1.0  0.0  1.0  ...     \n",
       "33158  13554916786176  0.0  1.0  0.0  0.0  1.0  0.0  0.0  0.0  0.0  ...     \n",
       "34350  14035953123330  0.0  1.0  0.0  0.0  0.0  0.0  0.0  0.0  0.0  ...     \n",
       "26180  10642928959488  0.0  0.0  0.0  0.0  0.0  0.0  0.0  0.0  0.0  ...     \n",
       "\n",
       "       91.0  92.0  93.0  94.0  95.0  96.0  97.0  98.0  99.0  100.0  \n",
       "6858    0.0   0.0   0.0   0.0   0.0   0.0   0.0   0.0   0.0    0.0  \n",
       "33258   0.0   1.0   0.0   0.0   0.0   0.0   0.0   0.0   0.0    0.0  \n",
       "33158   0.0   0.0   0.0   0.0   0.0   0.0   0.0   0.0   0.0    0.0  \n",
       "34350   0.0   2.0   0.0   0.0   0.0   0.0   0.0   0.0   0.0    0.0  \n",
       "26180   1.0   0.0   0.0   0.0   0.0   0.0   0.0   0.0   0.0    1.0  \n",
       "\n",
       "[5 rows x 102 columns]"
      ]
     },
     "execution_count": 69,
     "metadata": {},
     "output_type": "execute_result"
    }
   ],
   "source": [
    "X_train.head()"
   ]
  },
  {
   "cell_type": "markdown",
   "metadata": {},
   "source": [
    "kf = KFold(n_splits=5)\n",
    "for train, test in kf.split(X):\n",
    "    print(\"%s %s\" % (train, test))\n",
    "    "
   ]
  },
  {
   "cell_type": "code",
   "execution_count": 70,
   "metadata": {},
   "outputs": [
    {
     "name": "stdout",
     "output_type": "stream",
     "text": [
      "================================================================================\n",
      "Ridge Classifier\n",
      "________________________________________________________________________________\n",
      "Training: \n",
      "RidgeClassifier(alpha=1.0, class_weight=None, copy_X=True, fit_intercept=True,\n",
      "        max_iter=None, normalize=False, random_state=None, solver='lsqr',\n",
      "        tol=0.01)\n",
      "train time: 0.025s\n",
      "test time:  0.003s\n",
      "accuracy:   0.480\n",
      "classification report:\n",
      "             precision    recall  f1-score   support\n",
      "\n",
      "      blues       0.00      0.00      0.00       239\n",
      "    electro       0.00      0.00      0.00       113\n",
      "        rap       0.00      0.00      0.00       162\n",
      "     reggae       0.00      0.00      0.00       228\n",
      "       rock       0.48      1.00      0.65       686\n",
      "\n",
      "avg / total       0.23      0.48      0.31      1428\n",
      "\n",
      "confusion matrix:\n",
      "[[  0   0   0   0 239]\n",
      " [  0   0   0   0 113]\n",
      " [  0   0   0   0 162]\n",
      " [  0   0   0   0 228]\n",
      " [  0   0   0   0 686]]\n",
      "\n",
      "================================================================================\n",
      "Perceptron\n",
      "________________________________________________________________________________\n",
      "Training: \n",
      "Perceptron(alpha=0.0001, class_weight=None, eta0=1.0, fit_intercept=True,\n",
      "      n_iter=50, n_jobs=1, penalty=None, random_state=0, shuffle=True,\n",
      "      verbose=0, warm_start=False)\n",
      "train time: 0.304s\n",
      "test time:  0.001s\n",
      "accuracy:   0.480\n",
      "classification report:\n",
      "             precision    recall  f1-score   support\n",
      "\n",
      "      blues       0.00      0.00      0.00       239\n",
      "    electro       0.00      0.00      0.00       113\n",
      "        rap       0.00      0.00      0.00       162\n",
      "     reggae       0.00      0.00      0.00       228\n",
      "       rock       0.48      1.00      0.65       686\n",
      "\n",
      "avg / total       0.23      0.48      0.31      1428\n",
      "\n",
      "confusion matrix:\n",
      "[[  0   0   0   0 239]\n",
      " [  0   0   0   0 113]\n",
      " [  0   0   0   0 162]\n",
      " [  0   0   0   0 228]\n",
      " [  0   0   0   0 686]]\n",
      "\n",
      "================================================================================\n",
      "kNN_20_ball\n",
      "________________________________________________________________________________\n",
      "Training: \n",
      "KNeighborsClassifier(algorithm='ball_tree', leaf_size=30, metric='minkowski',\n",
      "           metric_params=None, n_jobs=1, n_neighbors=20, p=2,\n",
      "           weights='uniform')\n",
      "train time: 0.019s\n",
      "test time:  0.032s\n",
      "accuracy:   0.457\n",
      "classification report:\n",
      "             precision    recall  f1-score   support\n",
      "\n",
      "      blues       0.24      0.09      0.13       239\n",
      "    electro       0.00      0.00      0.00       113\n",
      "        rap       0.09      0.01      0.01       162\n",
      "     reggae       0.15      0.02      0.04       228\n",
      "       rock       0.48      0.91      0.63       686\n",
      "\n",
      "avg / total       0.31      0.46      0.33      1428\n",
      "\n",
      "confusion matrix:\n",
      "[[ 22   0   0   4 213]\n",
      " [  8   0   1   1 103]\n",
      " [ 10   0   1   8 143]\n",
      " [ 12   0   0   5 211]\n",
      " [ 38   0   9  15 624]]\n",
      "\n",
      "================================================================================\n",
      "kNN_1\n",
      "________________________________________________________________________________\n",
      "Training: \n",
      "KNeighborsClassifier(algorithm='brute', leaf_size=30, metric='cosine',\n",
      "           metric_params=None, n_jobs=1, n_neighbors=1, p=2,\n",
      "           weights='uniform')\n",
      "train time: 0.004s\n",
      "test time:  0.115s\n",
      "accuracy:   0.480\n",
      "classification report:\n",
      "             precision    recall  f1-score   support\n",
      "\n",
      "      blues       0.00      0.00      0.00       239\n",
      "    electro       0.00      0.00      0.00       113\n",
      "        rap       0.00      0.00      0.00       162\n",
      "     reggae       0.00      0.00      0.00       228\n",
      "       rock       0.48      1.00      0.65       686\n",
      "\n",
      "avg / total       0.23      0.48      0.31      1428\n",
      "\n",
      "confusion matrix:\n",
      "[[  0   0   0   0 239]\n",
      " [  0   0   0   0 113]\n",
      " [  0   0   0   0 162]\n",
      " [  0   0   0   0 228]\n",
      " [  1   0   0   0 685]]\n",
      "\n",
      "================================================================================\n",
      "kNN_4\n",
      "________________________________________________________________________________\n",
      "Training: \n",
      "KNeighborsClassifier(algorithm='brute', leaf_size=30, metric='cosine',\n",
      "           metric_params=None, n_jobs=1, n_neighbors=4, p=2,\n",
      "           weights='uniform')\n",
      "train time: 0.005s\n",
      "test time:  0.100s\n",
      "accuracy:   0.480\n",
      "classification report:\n",
      "             precision    recall  f1-score   support\n",
      "\n",
      "      blues       0.00      0.00      0.00       239\n",
      "    electro       0.00      0.00      0.00       113\n",
      "        rap       0.00      0.00      0.00       162\n",
      "     reggae       0.00      0.00      0.00       228\n",
      "       rock       0.48      1.00      0.65       686\n",
      "\n",
      "avg / total       0.23      0.48      0.31      1428\n",
      "\n",
      "confusion matrix:\n",
      "[[  0   0   0   0 239]\n",
      " [  0   0   0   0 113]\n",
      " [  0   0   0   0 162]\n",
      " [  0   0   0   0 228]\n",
      " [  1   0   0   0 685]]\n",
      "\n",
      "================================================================================\n",
      "kNN_10\n",
      "________________________________________________________________________________\n",
      "Training: \n",
      "KNeighborsClassifier(algorithm='brute', leaf_size=30, metric='cosine',\n",
      "           metric_params=None, n_jobs=1, n_neighbors=10, p=2,\n",
      "           weights='uniform')\n",
      "train time: 0.006s\n",
      "test time:  0.100s\n",
      "accuracy:   0.168\n",
      "classification report:\n",
      "             precision    recall  f1-score   support\n",
      "\n",
      "      blues       0.17      1.00      0.29       239\n",
      "    electro       0.00      0.00      0.00       113\n",
      "        rap       0.00      0.00      0.00       162\n",
      "     reggae       0.00      0.00      0.00       228\n",
      "       rock       1.00      0.00      0.00       686\n",
      "\n",
      "avg / total       0.51      0.17      0.05      1428\n",
      "\n",
      "confusion matrix:\n",
      "[[239   0   0   0   0]\n",
      " [113   0   0   0   0]\n",
      " [162   0   0   0   0]\n",
      " [228   0   0   0   0]\n",
      " [685   0   0   0   1]]\n",
      "\n",
      "================================================================================\n",
      "kNN_50\n",
      "________________________________________________________________________________\n",
      "Training: \n",
      "KNeighborsClassifier(algorithm='brute', leaf_size=30, metric='cosine',\n",
      "           metric_params=None, n_jobs=1, n_neighbors=50, p=2,\n",
      "           weights='uniform')\n",
      "train time: 0.004s\n",
      "test time:  0.104s\n",
      "accuracy:   0.481\n",
      "classification report:\n",
      "             precision    recall  f1-score   support\n",
      "\n",
      "      blues       1.00      0.00      0.01       239\n",
      "    electro       0.00      0.00      0.00       113\n",
      "        rap       0.00      0.00      0.00       162\n",
      "     reggae       0.00      0.00      0.00       228\n",
      "       rock       0.48      1.00      0.65       686\n",
      "\n",
      "avg / total       0.40      0.48      0.31      1428\n",
      "\n",
      "confusion matrix:\n",
      "[[  1   0   0   0 238]\n",
      " [  0   0   0   0 113]\n",
      " [  0   0   0   0 162]\n",
      " [  0   0   0   0 228]\n",
      " [  0   0   0   0 686]]\n",
      "\n",
      "================================================================================\n",
      "kNN_200\n",
      "________________________________________________________________________________\n",
      "Training: \n",
      "KNeighborsClassifier(algorithm='brute', leaf_size=30, metric='cosine',\n",
      "           metric_params=None, n_jobs=1, n_neighbors=200, p=2,\n",
      "           weights='uniform')\n",
      "train time: 0.004s\n",
      "test time:  0.146s\n",
      "accuracy:   0.480\n",
      "classification report:\n",
      "             precision    recall  f1-score   support\n",
      "\n",
      "      blues       0.50      0.00      0.01       239\n",
      "    electro       0.00      0.00      0.00       113\n",
      "        rap       0.00      0.00      0.00       162\n",
      "     reggae       0.00      0.00      0.00       228\n",
      "       rock       0.48      1.00      0.65       686\n",
      "\n",
      "avg / total       0.31      0.48      0.31      1428\n",
      "\n",
      "confusion matrix:\n",
      "[[  1   0   0   0 238]\n",
      " [  0   0   0   0 113]\n",
      " [  0   0   0   0 162]\n",
      " [  0   0   0   0 228]\n",
      " [  1   0   0   0 685]]\n",
      "\n",
      "================================================================================\n",
      "adaboost_50\n",
      "________________________________________________________________________________\n",
      "Training: \n",
      "AdaBoostClassifier(algorithm='SAMME.R', base_estimator=None,\n",
      "          learning_rate=1.0, n_estimators=50, random_state=None)\n",
      "train time: 0.511s\n",
      "test time:  0.024s\n",
      "accuracy:   0.570\n",
      "classification report:\n",
      "             precision    recall  f1-score   support\n",
      "\n",
      "      blues       0.62      0.54      0.58       239\n",
      "    electro       0.43      0.21      0.28       113\n",
      "        rap       0.36      0.14      0.20       162\n",
      "     reggae       0.45      0.20      0.28       228\n",
      "       rock       0.59      0.86      0.70       686\n",
      "\n",
      "avg / total       0.53      0.57      0.52      1428\n",
      "\n",
      "confusion matrix:\n",
      "[[129   4   8  16  82]\n",
      " [  5  24   3   6  75]\n",
      " [  8   5  22  11 116]\n",
      " [ 32   5  12  46 133]\n",
      " [ 35  18  16  24 593]]\n",
      "\n",
      "================================================================================\n",
      "adaboost_500\n",
      "________________________________________________________________________________\n",
      "Training: \n",
      "AdaBoostClassifier(algorithm='SAMME.R', base_estimator=None,\n",
      "          learning_rate=1.0, n_estimators=500, random_state=None)\n"
     ]
    },
    {
     "name": "stdout",
     "output_type": "stream",
     "text": [
      "train time: 4.580s\n",
      "test time:  0.203s\n",
      "accuracy:   0.444\n",
      "classification report:\n",
      "             precision    recall  f1-score   support\n",
      "\n",
      "      blues       0.41      0.52      0.46       239\n",
      "    electro       0.26      0.33      0.29       113\n",
      "        rap       0.26      0.36      0.30       162\n",
      "     reggae       0.39      0.23      0.29       228\n",
      "       rock       0.59      0.53      0.56       686\n",
      "\n",
      "avg / total       0.46      0.44      0.45      1428\n",
      "\n",
      "confusion matrix:\n",
      "[[125  12  16  17  69]\n",
      " [  9  37  10   8  49]\n",
      " [ 17  14  58   9  64]\n",
      " [ 52  12  40  53  71]\n",
      " [105  69 101  50 361]]\n",
      "\n",
      "================================================================================\n",
      "gradientboost_50\n",
      "________________________________________________________________________________\n",
      "Training: \n",
      "GradientBoostingClassifier(criterion='friedman_mse', init=None,\n",
      "              learning_rate=0.1, loss='deviance', max_depth=3,\n",
      "              max_features=None, max_leaf_nodes=None,\n",
      "              min_impurity_split=1e-07, min_samples_leaf=1,\n",
      "              min_samples_split=2, min_weight_fraction_leaf=0.0,\n",
      "              n_estimators=50, presort='auto', random_state=None,\n",
      "              subsample=1.0, verbose=0, warm_start=False)\n",
      "train time: 2.374s\n",
      "test time:  0.010s\n",
      "accuracy:   0.567\n",
      "classification report:\n",
      "             precision    recall  f1-score   support\n",
      "\n",
      "      blues       0.69      0.46      0.55       239\n",
      "    electro       0.57      0.07      0.13       113\n",
      "        rap       0.70      0.04      0.08       162\n",
      "     reggae       0.55      0.14      0.22       228\n",
      "       rock       0.55      0.95      0.70       686\n",
      "\n",
      "avg / total       0.59      0.57      0.48      1428\n",
      "\n",
      "confusion matrix:\n",
      "[[109   0   0  10 120]\n",
      " [ 10   8   0   2  93]\n",
      " [  6   1   7   2 146]\n",
      " [ 18   2   2  32 174]\n",
      " [ 16   3   1  12 654]]\n",
      "\n",
      "================================================================================\n",
      "gradientboost_500\n",
      "________________________________________________________________________________\n",
      "Training: \n",
      "GradientBoostingClassifier(criterion='friedman_mse', init=None,\n",
      "              learning_rate=0.1, loss='deviance', max_depth=3,\n",
      "              max_features=None, max_leaf_nodes=None,\n",
      "              min_impurity_split=1e-07, min_samples_leaf=1,\n",
      "              min_samples_split=2, min_weight_fraction_leaf=0.0,\n",
      "              n_estimators=500, presort='auto', random_state=None,\n",
      "              subsample=1.0, verbose=0, warm_start=False)\n",
      "train time: 21.963s\n",
      "test time:  0.054s\n",
      "accuracy:   0.566\n",
      "classification report:\n",
      "             precision    recall  f1-score   support\n",
      "\n",
      "      blues       0.63      0.44      0.52       239\n",
      "    electro       0.51      0.25      0.33       113\n",
      "        rap       0.40      0.15      0.22       162\n",
      "     reggae       0.45      0.31      0.37       228\n",
      "       rock       0.59      0.85      0.69       686\n",
      "\n",
      "avg / total       0.55      0.57      0.53      1428\n",
      "\n",
      "confusion matrix:\n",
      "[[105   5   5  22 102]\n",
      " [  2  28   3   6  74]\n",
      " [  8   2  25  11 116]\n",
      " [ 23   7  10  70 118]\n",
      " [ 28  13  20  45 580]]\n",
      "\n",
      "================================================================================\n",
      "Random forest\n",
      "________________________________________________________________________________\n",
      "Training: \n",
      "RandomForestClassifier(bootstrap=True, class_weight=None, criterion='gini',\n",
      "            max_depth=None, max_features='auto', max_leaf_nodes=None,\n",
      "            min_impurity_split=1e-07, min_samples_leaf=1,\n",
      "            min_samples_split=2, min_weight_fraction_leaf=0.0,\n",
      "            n_estimators=500, n_jobs=1, oob_score=False, random_state=None,\n",
      "            verbose=0, warm_start=False)\n",
      "train time: 4.699s\n",
      "test time:  0.539s\n",
      "accuracy:   0.554\n",
      "classification report:\n",
      "             precision    recall  f1-score   support\n",
      "\n",
      "      blues       0.66      0.50      0.57       239\n",
      "    electro       0.38      0.07      0.12       113\n",
      "        rap       0.36      0.09      0.14       162\n",
      "     reggae       0.39      0.17      0.23       228\n",
      "       rock       0.56      0.89      0.69       686\n",
      "\n",
      "avg / total       0.51      0.55      0.49      1428\n",
      "\n",
      "confusion matrix:\n",
      "[[119   2   2   9 107]\n",
      " [ 10   8   1   3  91]\n",
      " [  5   3  14  18 122]\n",
      " [ 23   2   6  38 159]\n",
      " [ 22   6  16  30 612]]\n",
      "\n"
     ]
    }
   ],
   "source": [
    "results = []\n",
    "for clf, name in (\n",
    "        (RidgeClassifier(tol=1e-2, solver=\"lsqr\"), \"Ridge Classifier\"),\n",
    "        (Perceptron(n_iter=50), \"Perceptron\"),\n",
    "        (KNeighborsClassifier(n_neighbors=20, algorithm = \"ball_tree\"), \"kNN_20_ball\"),\n",
    "        (KNeighborsClassifier(n_neighbors=1, metric=\"cosine\", algorithm = \"brute\"), \"kNN_1\"),\n",
    "        (KNeighborsClassifier(n_neighbors=4, metric=\"cosine\",algorithm = \"brute\"), \"kNN_4\"),\n",
    "        (KNeighborsClassifier(n_neighbors=10, metric=\"cosine\",algorithm = \"brute\"), \"kNN_10\"),\n",
    "        (KNeighborsClassifier(n_neighbors=50, metric=\"cosine\",algorithm = \"brute\"), \"kNN_50\"),\n",
    "        (KNeighborsClassifier(n_neighbors=200, metric=\"cosine\",algorithm = \"brute\"), \"kNN_200\"),\n",
    "        (AdaBoostClassifier( n_estimators=50), \"adaboost_50\"),\n",
    "        (AdaBoostClassifier( n_estimators=500), \"adaboost_500\"),\n",
    "        (GradientBoostingClassifier(n_estimators=50), \"gradientboost_50\"),\n",
    "        (GradientBoostingClassifier(n_estimators=500), \"gradientboost_500\"),\n",
    "        (RandomForestClassifier(n_estimators=500), \"Random forest\")):\n",
    "    print('=' * 80)\n",
    "    print(name)\n",
    "    results.append(benchmark(clf))"
   ]
  },
  {
   "cell_type": "code",
   "execution_count": 71,
   "metadata": {},
   "outputs": [
    {
     "name": "stdout",
     "output_type": "stream",
     "text": [
      "================================================================================\n",
      "L2 penalty\n",
      "________________________________________________________________________________\n",
      "Training: \n",
      "LinearSVC(C=1.0, class_weight=None, dual=False, fit_intercept=True,\n",
      "     intercept_scaling=1, loss='squared_hinge', max_iter=1000,\n",
      "     multi_class='ovr', penalty='l2', random_state=None, tol=0.001,\n",
      "     verbose=0)\n",
      "train time: 0.022s\n",
      "test time:  0.002s\n",
      "accuracy:   0.480\n",
      "classification report:\n",
      "             precision    recall  f1-score   support\n",
      "\n",
      "      blues       0.00      0.00      0.00       239\n",
      "    electro       0.00      0.00      0.00       113\n",
      "        rap       0.00      0.00      0.00       162\n",
      "     reggae       0.00      0.00      0.00       228\n",
      "       rock       0.48      1.00      0.65       686\n",
      "\n",
      "avg / total       0.23      0.48      0.31      1428\n",
      "\n",
      "confusion matrix:\n",
      "[[  0   0   0   0 239]\n",
      " [  0   0   0   0 113]\n",
      " [  0   0   0   0 162]\n",
      " [  0   0   0   0 228]\n",
      " [  0   0   0   0 686]]\n",
      "\n",
      "________________________________________________________________________________\n",
      "Training: \n",
      "SGDClassifier(alpha=0.0001, average=False, class_weight=None, epsilon=0.1,\n",
      "       eta0=0.0, fit_intercept=True, l1_ratio=0.15,\n",
      "       learning_rate='optimal', loss='hinge', n_iter=50, n_jobs=1,\n",
      "       penalty='l2', power_t=0.5, random_state=None, shuffle=True,\n",
      "       verbose=0, warm_start=False)\n",
      "train time: 0.218s\n",
      "test time:  0.002s\n",
      "accuracy:   0.480\n",
      "classification report:\n",
      "             precision    recall  f1-score   support\n",
      "\n",
      "      blues       0.00      0.00      0.00       239\n",
      "    electro       0.00      0.00      0.00       113\n",
      "        rap       0.00      0.00      0.00       162\n",
      "     reggae       0.00      0.00      0.00       228\n",
      "       rock       0.48      1.00      0.65       686\n",
      "\n",
      "avg / total       0.23      0.48      0.31      1428\n",
      "\n",
      "confusion matrix:\n",
      "[[  0   0   0   0 239]\n",
      " [  0   0   0   0 113]\n",
      " [  0   0   0   0 162]\n",
      " [  0   0   0   0 228]\n",
      " [  0   0   0   0 686]]\n",
      "\n",
      "================================================================================\n",
      "L1 penalty\n",
      "________________________________________________________________________________\n",
      "Training: \n",
      "LinearSVC(C=1.0, class_weight=None, dual=False, fit_intercept=True,\n",
      "     intercept_scaling=1, loss='squared_hinge', max_iter=1000,\n",
      "     multi_class='ovr', penalty='l1', random_state=None, tol=0.001,\n",
      "     verbose=0)\n",
      "train time: 0.873s\n",
      "test time:  0.001s\n",
      "accuracy:   0.595\n",
      "classification report:\n",
      "             precision    recall  f1-score   support\n",
      "\n",
      "      blues       0.70      0.52      0.60       239\n",
      "    electro       0.48      0.27      0.34       113\n",
      "        rap       0.40      0.12      0.19       162\n",
      "     reggae       0.62      0.25      0.36       228\n",
      "       rock       0.59      0.90      0.71       686\n",
      "\n",
      "avg / total       0.58      0.60      0.55      1428\n",
      "\n",
      "confusion matrix:\n",
      "[[125   7   3  12  92]\n",
      " [  3  30   3   2  75]\n",
      " [  8   4  20   4 126]\n",
      " [ 22   8   8  57 133]\n",
      " [ 21  14  16  17 618]]\n",
      "\n",
      "________________________________________________________________________________\n",
      "Training: \n",
      "SGDClassifier(alpha=0.0001, average=False, class_weight=None, epsilon=0.1,\n",
      "       eta0=0.0, fit_intercept=True, l1_ratio=0.15,\n",
      "       learning_rate='optimal', loss='hinge', n_iter=50, n_jobs=1,\n",
      "       penalty='l1', power_t=0.5, random_state=None, shuffle=True,\n",
      "       verbose=0, warm_start=False)\n",
      "train time: 0.511s\n",
      "test time:  0.001s\n",
      "accuracy:   0.160\n",
      "classification report:\n",
      "             precision    recall  f1-score   support\n",
      "\n",
      "      blues       0.00      0.00      0.00       239\n",
      "    electro       0.00      0.00      0.00       113\n",
      "        rap       0.00      0.00      0.00       162\n",
      "     reggae       0.16      1.00      0.28       228\n",
      "       rock       0.00      0.00      0.00       686\n",
      "\n",
      "avg / total       0.03      0.16      0.04      1428\n",
      "\n",
      "confusion matrix:\n",
      "[[  0   0   0 239   0]\n",
      " [  0   0   0 113   0]\n",
      " [  0   0   0 162   0]\n",
      " [  0   0   0 228   0]\n",
      " [  0   0   0 686   0]]\n",
      "\n"
     ]
    }
   ],
   "source": [
    "for penalty in [\"l2\", \"l1\"]:\n",
    "    print('=' * 80)\n",
    "    print(\"%s penalty\" % penalty.upper())\n",
    "    # Train Liblinear model\n",
    "    results.append(benchmark(LinearSVC(penalty=penalty, dual=False,\n",
    "                                       tol=1e-3)))\n",
    "\n",
    "    # Train SGD model\n",
    "    results.append(benchmark(SGDClassifier(alpha=.0001, n_iter=50,\n",
    "                                           penalty=penalty)))"
   ]
  },
  {
   "cell_type": "code",
   "execution_count": 72,
   "metadata": {
    "scrolled": true
   },
   "outputs": [
    {
     "name": "stdout",
     "output_type": "stream",
     "text": [
      "================================================================================\n",
      "Naive Bayes\n",
      "________________________________________________________________________________\n",
      "Training: \n",
      "MultinomialNB(alpha=0.01, class_prior=None, fit_prior=True)\n",
      "train time: 0.013s\n",
      "test time:  0.001s\n",
      "accuracy:   0.480\n",
      "classification report:\n",
      "             precision    recall  f1-score   support\n",
      "\n",
      "      blues       0.35      0.60      0.44       239\n",
      "    electro       0.51      0.18      0.26       113\n",
      "        rap       0.24      0.20      0.22       162\n",
      "     reggae       0.42      0.19      0.26       228\n",
      "       rock       0.61      0.65      0.63       686\n",
      "\n",
      "avg / total       0.48      0.48      0.46      1428\n",
      "\n",
      "confusion matrix:\n",
      "[[143   2  12  18  64]\n",
      " [ 35  20   7   2  49]\n",
      " [ 31   3  33   7  88]\n",
      " [ 69   2  27  43  87]\n",
      " [136  12  59  33 446]]\n",
      "\n",
      "________________________________________________________________________________\n",
      "Training: \n",
      "BernoulliNB(alpha=0.01, binarize=0.0, class_prior=None, fit_prior=True)\n",
      "train time: 0.014s\n",
      "test time:  0.004s\n",
      "accuracy:   0.548\n",
      "classification report:\n",
      "             precision    recall  f1-score   support\n",
      "\n",
      "      blues       0.51      0.59      0.55       239\n",
      "    electro       0.39      0.19      0.26       113\n",
      "        rap       0.33      0.25      0.28       162\n",
      "     reggae       0.44      0.22      0.30       228\n",
      "       rock       0.61      0.77      0.68       686\n",
      "\n",
      "avg / total       0.52      0.55      0.52      1428\n",
      "\n",
      "confusion matrix:\n",
      "[[142   5   5  14  73]\n",
      " [ 21  22   7   7  56]\n",
      " [  9   3  40   9 101]\n",
      " [ 47   5  22  51 103]\n",
      " [ 57  21  46  35 527]]\n",
      "\n"
     ]
    }
   ],
   "source": [
    "# Train sparse Naive Bayes classifiers\n",
    "print('=' * 80)\n",
    "print(\"Naive Bayes\")\n",
    "results.append(benchmark(MultinomialNB(alpha=.01)))\n",
    "results.append(benchmark(BernoulliNB(alpha=.01)))"
   ]
  },
  {
   "cell_type": "code",
   "execution_count": 73,
   "metadata": {},
   "outputs": [
    {
     "data": {
      "image/png": "[encoded data removed]",
      "text/plain": [
       "<matplotlib.figure.Figure at 0x183323690>"
      ]
     },
     "metadata": {},
     "output_type": "display_data"
    }
   ],
   "source": [
    "indices = np.arange(len(results))\n",
    "\n",
    "results = [[x[i] for x in results] for i in range(4)]\n",
    "\n",
    "clf_names, score, training_time, test_time = results\n",
    "training_time = np.array(training_time) / np.max(training_time)\n",
    "test_time = np.array(test_time) / np.max(test_time)\n",
    "\n",
    "plt.figure(figsize=(12, 8))\n",
    "plt.title(\"Score\")\n",
    "plt.barh(indices, score, .2, label=\"score\", color='navy')\n",
    "plt.barh(indices + .3, training_time, .2, label=\"training time\",\n",
    "         color='c')\n",
    "plt.barh(indices + .6, test_time, .2, label=\"test time\", color='darkorange')\n",
    "plt.yticks(())\n",
    "plt.legend(loc='best')\n",
    "plt.subplots_adjust(left=.25)\n",
    "plt.subplots_adjust(top=.95)\n",
    "plt.subplots_adjust(bottom=.05)\n",
    "\n",
    "for i, c in zip(indices, clf_names):\n",
    "    plt.text(-.3, i, c)\n",
    "\n",
    "plt.show()"
   ]
  }
 ],
 "metadata": {
  "kernelspec": {
   "display_name": "Python 2",
   "language": "python",
   "name": "python2"
  },
  "language_info": {
   "codemirror_mode": {
    "name": "ipython",
    "version": 2
   },
   "file_extension": ".py",
   "mimetype": "text/x-python",
   "name": "python",
   "nbconvert_exporter": "python",
   "pygments_lexer": "ipython2",
   "version": "2.7.13"
  }
 },
 "nbformat": 4,
 "nbformat_minor": 2
}
